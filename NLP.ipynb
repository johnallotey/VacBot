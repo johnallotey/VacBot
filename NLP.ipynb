{
  "cells": [
    {
      "cell_type": "markdown",
      "metadata": {
        "id": "view-in-github",
        "colab_type": "text"
      },
      "source": [
        "<a href=\"https://colab.research.google.com/github/johnallotey/VacBot/blob/Dev/NLP.ipynb\" target=\"_parent\"><img src=\"https://colab.research.google.com/assets/colab-badge.svg\" alt=\"Open In Colab\"/></a>"
      ]
    },
    {
      "cell_type": "code",
      "metadata": {
        "id": "Cw-GgU1ehpcJ",
        "colab_type": "code",
        "colab": {}
      },
      "source": [
        "import numpy as np\n",
        "import re"
      ],
      "execution_count": 0,
      "outputs": []
    },
    {
      "cell_type": "code",
      "metadata": {
        "id": "Efgzm63MtFzi",
        "colab_type": "code",
        "colab": {
          "base_uri": "https://localhost:8080/",
          "height": 1000
        },
        "outputId": "b19970fe-229b-4d38-f56a-735b86e76211"
      },
      "source": [
        "! sudo apt install openjdk-8-jdk\n",
        "! sudo update-alternatives --set java /usr/lib/jvm/java-8-openjdk-amd64/jre/bin/java\n",
        "! pip install language-check -qq\n",
        "! pip install pycontractions -qq"
      ],
      "execution_count": 4,
      "outputs": [
        {
          "output_type": "stream",
          "text": [
            "Reading package lists... Done\n",
            "Building dependency tree       \n",
            "Reading state information... Done\n",
            "The following additional packages will be installed:\n",
            "  fonts-dejavu-core fonts-dejavu-extra libatk-wrapper-java\n",
            "  libatk-wrapper-java-jni libxxf86dga1 openjdk-8-jre x11-utils\n",
            "Suggested packages:\n",
            "  openjdk-8-demo openjdk-8-source visualvm icedtea-8-plugin mesa-utils\n",
            "The following NEW packages will be installed:\n",
            "  fonts-dejavu-core fonts-dejavu-extra libatk-wrapper-java\n",
            "  libatk-wrapper-java-jni libxxf86dga1 openjdk-8-jdk openjdk-8-jre x11-utils\n",
            "0 upgraded, 8 newly installed, 0 to remove and 25 not upgraded.\n",
            "Need to get 4,942 kB of archives.\n",
            "After this operation, 13.3 MB of additional disk space will be used.\n",
            "Get:1 http://archive.ubuntu.com/ubuntu bionic/main amd64 libxxf86dga1 amd64 2:1.1.4-1 [13.7 kB]\n",
            "Get:2 http://archive.ubuntu.com/ubuntu bionic/main amd64 fonts-dejavu-core all 2.37-1 [1,041 kB]\n",
            "Get:3 http://archive.ubuntu.com/ubuntu bionic/main amd64 fonts-dejavu-extra all 2.37-1 [1,953 kB]\n",
            "Get:4 http://archive.ubuntu.com/ubuntu bionic/main amd64 x11-utils amd64 7.7+3build1 [196 kB]\n",
            "Get:5 http://archive.ubuntu.com/ubuntu bionic/main amd64 libatk-wrapper-java all 0.33.3-20ubuntu0.1 [34.7 kB]\n",
            "Get:6 http://archive.ubuntu.com/ubuntu bionic/main amd64 libatk-wrapper-java-jni amd64 0.33.3-20ubuntu0.1 [28.3 kB]\n",
            "Get:7 http://archive.ubuntu.com/ubuntu bionic-updates/universe amd64 openjdk-8-jre amd64 8u242-b08-0ubuntu3~18.04 [69.7 kB]\n",
            "Get:8 http://archive.ubuntu.com/ubuntu bionic-updates/universe amd64 openjdk-8-jdk amd64 8u242-b08-0ubuntu3~18.04 [1,606 kB]\n",
            "Fetched 4,942 kB in 1s (4,501 kB/s)\n",
            "debconf: unable to initialize frontend: Dialog\n",
            "debconf: (No usable dialog-like program is installed, so the dialog based frontend cannot be used. at /usr/share/perl5/Debconf/FrontEnd/Dialog.pm line 76, <> line 8.)\n",
            "debconf: falling back to frontend: Readline\n",
            "debconf: unable to initialize frontend: Readline\n",
            "debconf: (This frontend requires a controlling tty.)\n",
            "debconf: falling back to frontend: Teletype\n",
            "dpkg-preconfigure: unable to re-open stdin: \n",
            "Selecting previously unselected package libxxf86dga1:amd64.\n",
            "(Reading database ... 133872 files and directories currently installed.)\n",
            "Preparing to unpack .../0-libxxf86dga1_2%3a1.1.4-1_amd64.deb ...\n",
            "Unpacking libxxf86dga1:amd64 (2:1.1.4-1) ...\n",
            "Selecting previously unselected package fonts-dejavu-core.\n",
            "Preparing to unpack .../1-fonts-dejavu-core_2.37-1_all.deb ...\n",
            "Unpacking fonts-dejavu-core (2.37-1) ...\n",
            "Selecting previously unselected package fonts-dejavu-extra.\n",
            "Preparing to unpack .../2-fonts-dejavu-extra_2.37-1_all.deb ...\n",
            "Unpacking fonts-dejavu-extra (2.37-1) ...\n",
            "Selecting previously unselected package x11-utils.\n",
            "Preparing to unpack .../3-x11-utils_7.7+3build1_amd64.deb ...\n",
            "Unpacking x11-utils (7.7+3build1) ...\n",
            "Selecting previously unselected package libatk-wrapper-java.\n",
            "Preparing to unpack .../4-libatk-wrapper-java_0.33.3-20ubuntu0.1_all.deb ...\n",
            "Unpacking libatk-wrapper-java (0.33.3-20ubuntu0.1) ...\n",
            "Selecting previously unselected package libatk-wrapper-java-jni:amd64.\n",
            "Preparing to unpack .../5-libatk-wrapper-java-jni_0.33.3-20ubuntu0.1_amd64.deb ...\n",
            "Unpacking libatk-wrapper-java-jni:amd64 (0.33.3-20ubuntu0.1) ...\n",
            "Selecting previously unselected package openjdk-8-jre:amd64.\n",
            "Preparing to unpack .../6-openjdk-8-jre_8u242-b08-0ubuntu3~18.04_amd64.deb ...\n",
            "Unpacking openjdk-8-jre:amd64 (8u242-b08-0ubuntu3~18.04) ...\n",
            "Selecting previously unselected package openjdk-8-jdk:amd64.\n",
            "Preparing to unpack .../7-openjdk-8-jdk_8u242-b08-0ubuntu3~18.04_amd64.deb ...\n",
            "Unpacking openjdk-8-jdk:amd64 (8u242-b08-0ubuntu3~18.04) ...\n",
            "Setting up fonts-dejavu-core (2.37-1) ...\n",
            "Setting up libxxf86dga1:amd64 (2:1.1.4-1) ...\n",
            "Setting up fonts-dejavu-extra (2.37-1) ...\n",
            "Setting up x11-utils (7.7+3build1) ...\n",
            "Setting up libatk-wrapper-java (0.33.3-20ubuntu0.1) ...\n",
            "Setting up libatk-wrapper-java-jni:amd64 (0.33.3-20ubuntu0.1) ...\n",
            "Setting up openjdk-8-jre:amd64 (8u242-b08-0ubuntu3~18.04) ...\n",
            "update-alternatives: using /usr/lib/jvm/java-8-openjdk-amd64/jre/bin/policytool to provide /usr/bin/policytool (policytool) in auto mode\n",
            "Setting up openjdk-8-jdk:amd64 (8u242-b08-0ubuntu3~18.04) ...\n",
            "update-alternatives: using /usr/lib/jvm/java-8-openjdk-amd64/bin/appletviewer to provide /usr/bin/appletviewer (appletviewer) in auto mode\n",
            "update-alternatives: using /usr/lib/jvm/java-8-openjdk-amd64/bin/jconsole to provide /usr/bin/jconsole (jconsole) in auto mode\n",
            "Processing triggers for man-db (2.8.3-2ubuntu0.1) ...\n",
            "Processing triggers for hicolor-icon-theme (0.17-2) ...\n",
            "Processing triggers for fontconfig (2.12.6-0ubuntu2) ...\n",
            "Processing triggers for mime-support (3.60ubuntu1) ...\n",
            "Processing triggers for libc-bin (2.27-3ubuntu1) ...\n",
            "/sbin/ldconfig.real: /usr/local/lib/python3.6/dist-packages/ideep4py/lib/libmkldnn.so.0 is not a symbolic link\n",
            "\n",
            "update-alternatives: using /usr/lib/jvm/java-8-openjdk-amd64/jre/bin/java to provide /usr/bin/java (java) in manual mode\n",
            "  Building wheel for language-check (setup.py) ... \u001b[?25l\u001b[?25hdone\n"
          ],
          "name": "stdout"
        }
      ]
    },
    {
      "cell_type": "code",
      "metadata": {
        "id": "PyCswcGZuD7d",
        "colab_type": "code",
        "colab": {}
      },
      "source": [
        ""
      ],
      "execution_count": 0,
      "outputs": []
    },
    {
      "cell_type": "code",
      "metadata": {
        "id": "KIHUwe3vtRJS",
        "colab_type": "code",
        "colab": {
          "base_uri": "https://localhost:8080/",
          "height": 34
        },
        "outputId": "306a2186-9d73-47e1-ca95-e49d7f167ee4"
      },
      "source": [
        "%tensorflow_version 2.x\n",
        "import tensorflow as tf"
      ],
      "execution_count": 5,
      "outputs": [
        {
          "output_type": "stream",
          "text": [
            "TensorFlow 2.x selected.\n"
          ],
          "name": "stdout"
        }
      ]
    },
    {
      "cell_type": "code",
      "metadata": {
        "id": "6DrEOOmatnXj",
        "colab_type": "code",
        "colab": {}
      },
      "source": [
        "from timeit import default_timer\n",
        "\n",
        "# Preprocessing\n",
        "from pycontractions import Contractions\n",
        "\n",
        "# Tokenization imports\n",
        "import nltk\n",
        "from nltk.tokenize import sent_tokenize\n",
        "from nltk.tokenize import word_tokenize\n",
        "\n",
        "# Puncuation & lower case\n",
        "import string #punctuation removal\n",
        "\n",
        "# Stop words\n",
        "from nltk.corpus import stopwords\n",
        "\n",
        "# Stemming\n",
        "from nltk.stem.snowball import SnowballStemmer\n",
        "\n",
        "# Lemmatizer\n",
        "from nltk.stem.wordnet import WordNetLemmatizer\n",
        "\n",
        "# POS tagging\n",
        "from nltk.corpus import wordnet\n",
        "\n",
        "# ngrams\n",
        "from nltk import bigrams, trigrams\n",
        "from nltk import ngrams\n",
        "import gensim"
      ],
      "execution_count": 0,
      "outputs": []
    },
    {
      "cell_type": "code",
      "metadata": {
        "id": "4MbOBzWJgpiU",
        "colab_type": "code",
        "colab": {}
      },
      "source": [
        "with open (\"/content/drive/My Drive/convoExtract.txt\", \"r\") as myfile:\n",
        "    data=myfile.readlines()"
      ],
      "execution_count": 0,
      "outputs": []
    },
    {
      "cell_type": "code",
      "metadata": {
        "id": "HIcw_1QAYzq4",
        "colab_type": "code",
        "colab": {
          "base_uri": "https://localhost:8080/",
          "height": 54
        },
        "outputId": "07de43da-3bd3-4c19-cf8c-e5cff1bbb7d0"
      },
      "source": [
        "f = open(\"/content/drive/My Drive/convoExtract.txt\",\"r\")\n",
        "string = f.read()\n",
        "string"
      ],
      "execution_count": 8,
      "outputs": [
        {
          "output_type": "execute_result",
          "data": {
            "text/plain": [
              "\"I'd like to book a trip to Atlantis from Caprica on Saturday, August 13, 2016 for 8 adults. I have a tight budget of 1700.\\nHi...I checked a few options for you, and unfortunately, we do not currently have any trips that meet this criteria.  Would you like to book an alternate travel option?\\nYes, how about going to Neverland from Caprica on August 13, 2016 for 5 adults. For this trip, my budget would be 1900.\\nI checked the availability for this date and there were no trips available.  Would you like to select some alternate dates?\\nI have no flexibility for dates... but I can leave from Atlantis rather than Caprica. How about that?\\nI checked the availability for that date and there were no trips available.  Would you like to select some alternate dates?\\nI suppose I'll speak with my husband to see if we can choose other dates, and then I'll come back to you.Thanks for your help\\n\\n\\nHello, I am looking to book a vacation from Gotham City to Mos Eisley for $2100.\\nHi. Sorry, I can't find any trips from Gotham City to Mos Eisley for you.\\nWhat about a trip from Gotham City to Neverland for the same budget?\\nSorry, I cannot find any trips leaving from Gotham City. Could you suggest another nearby departure city?\\nWould any packages to Mos Eisley be available if I increase my budget to $2500?\\nThere are no trips available to Mos Eisley.\\nYou know what, I'd like to try and visit Neverland\\nI cannot find any trips available to Neverland.\\nDo you have any trips from Gotham City to Kobe for my original budget of $2100?\\nI can book you a 3 day trip to Kobe leaving from Sapporo, Japan. Is this ok?\\nNo, that's too far for me. I need a flight that leaves from Birmingham.\\nI can book you a trip from Birmingham to Kobe for 2747.8 USD.\\nHow many days would I be in Kobe?\\nYou would arrive in Kobe August 17th and return to Birmingham on August 22nd.\\nWhat would the price be if I shortened my trip by one day?\\nI can not find any trips from Birmingham to Kobe for 4 days.\\nOk, then I would like to purchase this package. What activities are included in this package?\\nThere are no activities listed for this package. You will be staying at the Ivory Legacy Hotel for 7 days. This hotel has a 4.5 star rating and free wifi. Will I go ahead and book this package?\\nYes, I would like to book this package.\\nGreat. Your flight departs from Birmingham at 9:00 am - Wednesday, August 17th 2016. Enjoy your trip, I have booked this package for you.\\n\\n\\nHello there i am looking to go on a vacation with my family to Gotham City, can you help me?\\nwhen  would you like to travel and how many people will you be?\\nNot sure when we want to leave, but we are 12 kids and 5 adults\\ndo you have a budget?\\nyes i do, it is around $2200\\nwhere will you be travelling from?\\nWe are from Neverland\\nWe have nothing available leaving from Neverland, are you able to depart from another city?\\nwe can depart from Toronto\\nGotham City is not a destination we travel to. Are you interested in any other destinations?\\nhmm what options would i have out of Toronto?\\nWould you be interested in Calgary?\\nthat would be nice\\nI have a departure from Toronto to Calgary  on August 17 returning on August 24. Does that work for you?\\nNo sorry i was planning on getting a tan this vacation. Thanks, is there anywhere else? Thank you\\nis there anywhere else?\\nHow about a trip to Dominican Republic? it is quite cheap at this time of year.\\nWhat options do you have available for me?\\nI have the el Mar hotel available in Punta Cana this week.\\nThat sounds interesting. how many stars does the hotel have?\\n2.5 stars. You would have to fly out of Melbourne though\\nAhh...maybe another time\\n\\n\\nHi I'd like to go to Caprica from Busan, between Sunday August 21, 2016 and Wednesday August 31, 2016\\nAnd what would be your maximum budget for this trip?\\nActually it's unlimited for this trip\\nHow many adults and how many children will be making this trip?\\n2 adults\\nI have no trips to Caprica from Busan.  I do have a trip to Mannheim, Germany, one to Kingston , Canada, and another to Toronto Canada.  Would you like to select alternate dates or an alternate travel destination?\\nDo you have anything for San Antonio as a destination?\\nYes, I do.  I have one for 8445.37 USD.  Would you like to book this package?  The guest rating is 7.15/10 and there is free parking and free wifi.  Leaving Sunday, August 21st at 11:00 a.m. and returning Sunday, August 28th at 1:00 a.m.\\nIs breakfast included?\\nYes, it is.\\nThat sounds great. 1:00 am return on Sunday August 28th is very early in the morning... \\nWould you like to book this package?\\nYes I would. Thanks for your help.\\n\\n\\nHello, I am looking to book a trip for 2 adults and 6 children for $21,300 or less. We are departing from Kochi for Denver.\\nI have several options available within your budget. How long would you like to travel for? And do you have dates in mind?\\nI do not have any dates in mind. I would like to spend as much time in Denver as my budget will allow.\\nI can book 7 days at a 4.0 star hotel for 19028.93USD. I can also book 7 days at a 3.0 star hotel for 12824.84USD.\\nDo these packages have different departure dates? When would I be leaving for each of them?\\nThe 3.0 star trip leaves Kochi August 26 and returns August 31. The 4.0 star leaves August 27 from Kochi and returns September 1.\\nOk, I would like to purchase the trip with the 4-star hotel.\\nPerfect, I will book that trip for you now. You will depart Kochi at 9:00 am August 27. Have a nice day.\\nThank you\\n\\n\\nHey, i Want to go to St. Louis on the 17th of August\\nFor how many days?\\nI need to back by the 31st\\nWhat will your departure city be?\\nI’m from Calgary\\nI have a direct flight leaving from Calgary on August 18 and returning on August 28th. Does that work for you?\\nYes that sounds perfect may you please tell me about the destination place\\nIt is the Glorious Cloak inn hotel in St. Louis. It has a 3-star rating.\\nThat sounds lavish, what type of flight would that be?\\nYou would be flying business class, for a grand total of only $1858.14\\nAre there any possible flights with economy class?\\nI have a package at the Lunar whcih has a 5 star rating on an economy class flight on the same dates for $1558.00\\nthat sounds even better.\\nThis deal includes free breakfast and free wifi. Would you like me to book it for you?\\nYes please, that sounds wonderful. thank you\\n\\n\\nI'm looking for a trip to Gotham City leaving from Kakariko Village on Saturday, August 13, 2016. 3 adults for no more than $2400 USD.\\nI have a trip available to Vancouver for these dates within your price range.  Would you like to increase your budget or adjust the dates?\\nI'd like to adjust the departure city to Caprica.\\nStill no availability for this destination.  Would you like to increase your budget or adjust the dates?\\nThe dates cannot be changed. How about going to Theed with 14 adults, leaving from Kakariko Village, on a budget of $2900?\\nStill no availability.\\nThen I will bring my business elsewhere. Thank you.\\n\\n\\nHello, I would like to book a 2-week trip leaving from Melbourne on August 27. I would like to go to Mannheim.\\nHave you got a budget for this vacation?\\nI do not have a budget, however I would like to pick whichever package is cheapest. Could you offer me the cheapest package for each destination?\\nI can book you 9 days in Mannheim for 3258.15USD at a 5 star hotel,\\nIs there a package to Mannheim which offers a cheaper hotel? I am flexible with my dates of arrival and departure.\\nI am unable to find any cheaper packages for Mannheim\\nWhat would the cost be if I stayed for 10 days in Mexico City?\\nYou can stay in Mexico City for 8 days for 426.16USD leaving from Melbourne, USA.\\nActually I am leaving from Melbourne, Australia. How does this affect the price of the trip?\\nI cannot find any trips available from Melbourne, Australia to Mexico City.\\nCould I purchase a package  to Vancouver similar to the one I was offered?\\nI cannot find any trips available from Melbourne, Australia to any destinations. This point of departure is not in my database.\\nOk, thank you for your time anyways\\n\\n\\nHello, I am planning to book a trip to pittsborgh\\nHello. Would that be Pittsborgh, Pennsylvania?\\ni think so!\\nAnd what city will you be departing from?\\nWe will be leaving from Fukuoka\\nhow many people will be travelling together?\\nthere will be myself, 1 adult, and my four kids\\nDo you have specific dates in mind?\\nnone at the moment\\nand for how long would you like to go for?\\nalso not sure yet\\nI have no flights available to Pittsburgh, but I have package available to Vancouver\\nI would like to see the availabilities in Vancouver please\\nI have several available.  Do you have a budget in mind?\\nI have $12600 to spend on this vacation\\nIt would be helpful if you could provide me with some dates\\nwe are very flexible with dates anything would work\\nI am very sorry  but I have nothing available at the moment\\nthat’s very unfortunate, thank you anyways\\n\\n\\nHi, I need to go to Mos Eisley for a wedding, leaving on Saturday, August 13, 2016 and returning on Tuesday, August 16, 2016. Preferably for $3700.\\nWould you like to have a departure from a specific location?\\n\\n\\nI'd like to get away from Monday, August 15, 2016 to Wednesday, August 31, 2016. My budget is $3200 and I would leave from Detroit.\\nAnd what destination would you like to travel to?\\nAnywhere, I'm looking for an adventure. What do you have?\\nHow about Mexico or Porto Alegre?\\nLet's look at both\\nMexico is unavailable.  Porto Alegre is available, but you would have to leave from Santos.\\nCan you please suggest some destinations that are available? I am leaving from Detroit.\\nI have no departures available from Detroit. for these dates.  Would you like to make a date change?\\nAnything between August 15 and August 31?\\nI'm sorry, but we do not have any departures from Detroit available for these dates for the budget you provided.  Would you like to adjust your budget for this trip?\\nNo I cannot. Thank you for your help\\n\\n\\nGood day, please book me a trip from Vancouver, Jamaica to Recife. I would like to leave for 17 days on August 24.\\nWould you like to travel to Vancouver, Canada from Dublin, USA?\\nNo, I would like to depart from Vancouver, Jamaica for the aforementioned destination.\\nI can book you an 8 day trip from Calgary to Vancouver, Canada for 810.50USD.\\nI would not like to travel to Vancouver, Canada.  Do you have any trips to Recife, Brazil?\\nI can book you a trip from Porto Alegre to Recife for 682.19USD.\\nI will take any package you give me to any destination as long as it leaves from Vancouver, Jamaica.\\nI can book you a trip from Vancouver, Canada to Toronto, Canada for 837.99USD.\\nIf you cannot book me a flight that leaves from Vancouver, Jamaica then I cannot book a trip.\\nI cannot book you a trip leaving from Vancouver, Jamaica.\\nActually I will be departing from Vancouver, British Columbia, do you have packages to Recife?\\nI can book 11 days in Recife leaving from Vancouver for 2171.6USD.\\nDo you have any similar packages to Goiania?\\nI can book 5 days in Goiania for 2190.68USD.\\nWhat kind of hotel would I be staying at in Recife?\\n3.5 star hotel for free wi-fi, free parking, and free breakfast.\\nWould my room have a view of the city? How much would it cost to upgrade to a room with a view?\\nI cannot provide this information\\nOk, I'm ready to buy this package\\nOk. I will book this package for you. You will be leaving Vancouver, Canada at 1:00 pm - Monday, August 15th 2016 and arriving in Recife, Brazil at 10:16 pm - Monday, August 15th 2016. You will be staying at La Casa Del Amor. Enjoy your trip.\\nI was supposed to leave on August 24th. Do you have any packages that leave on that date?\\nI can book you 11 days in Recife leaving Vancouver on August 27th for 3119.42USD.\\nActually I would like to purchase the first package to Recife.\\nOk, I will book you the package to Recife that leaves Vancouver, Canada on August 15.\\nThanks\\n\\n\\nHi im looking for a nice destination that i could go to from Columbus\\nI have 2 choices, Vancouver or Toronto.\\nWhat options are there for both\\nI have a few. Do you have a budget in mind?\\n$3700 is my budget at the moment\\nI have the Obsidian Gem Inn in Vancouver which is a 4-star hotel at $1934.64 or the Hotel Richard in Toronto which is a 3-star hotel at $2393.00. Both are for a 14 day stay.\\nToronto seems like a better place this time of year, when would the flights be?\\nI have a direct flight to Toronto departing on August 15th and returning on August 28th.  Would you like me to book that for you?\\nwould by chance have one leaving on the 19th\\nI have a flight available departing on August 24th and returning on September 6th\\nlet’s go ahead and book this\\nPerfect. Thank you.\\nthank you\\n\\n\\nHi, I have a big family and we can't afford a big vacation, we want to go to Atlantis from Mos Eisley for $3600 at most.\\nDo you have a preferred set of dates for this trip?\\nNope\\nAnd how many adults and how many children are you bringing with you to Atlantis?\\n12 adults and one child.\\nI'm sorry, but we do not currently have any travel packages available for this destination.  Do you have any other destinations that you might like to travel to?\\nNo, we are visiting family in Atlantis. Can you check once more please?\\nI'm sorry, but I do not currently have any travel packages available for this location.  Are you quite sure that I cannot interest you in another travel destination?\\nYes, I'm quite sure. Thank you for your help.\\n\\n\\nHi, I'm leaving from Diagon Alley and going to Coruscant on a budget of $3400. The dates don't matter, but I cannot afford anything over my budget.\\nAnd how many children and adults will you be bringing with you?\\nJust myself.\\nI'm sorry, but this travel destination is not available.\\nWhat about Neverland on the same budget?\\nNeverland is unavailable.  Vancouver would be available, however.  Would you like to select another location?\\nNo I cannot do another location. What if I increased my budget by $400?\\nI am sorry, but we do not have any trips available to the Neverland travel destination.\\nnor Coruscant?\\nCoruscant is not available either.\\nOk thanks.\\n\\n\\nHi there, im from Vitoria and I want to go on vacation\\nwhere would you like to go?\\nI would like to go to Santo domingo\\nwould a 7 day trip work for you?\\nyes that sounds fine, looking to leave on the 19th\\ngreat, I have a flight departing on the 19th and returning on the 25th of August\\nwhat is the hotel like?\\nIt is called the Rose Sierra Hotel and it is a 3-star hotel that includes free breakfast, wifi and parking. The total cost would be  $2170.90.\\nwhat type of flight is that going to be?\\nIt is an economy class flight\\nlet’s book it please\\nPerfect. Have a great trip.\\nThank you\\n\\n\\nHi, me and my family want to take a trip to Kakariko Village.\\nHow many adults and how many children will you be bringing with you?   Do you have a preferred departure location?  What would be your maximum budget?\\nWe are four adults and 11 children departing from Godric's Hollow. $3500 is the most we are willing to spend.\\nI do not have any packages available from that departure location for that budget.  Would you like to adjust the budget?\\nI would not be able to spend more than $4500\\nWould you like to suggest another departure location?  And what travel destination would you like to travel to?\\nWe'll catch a flight from Toronto then. We're headed for Kakariko Village.\\nThere are no travel packages available to Kakariko Village.\\nOk, do you have any travel packages to Kingston, Canada for 11 kids and 4 adults, $3500 or less, departing from Toronto?\\nYes, I have a package available leaving Toronto at 10:00 a.m. on August 24th and returning to Toronto at 4:00 a.m on August 30th.  This package offers free breakfast, free wifi, and free parking.  The cost of this package is 3465.91 USD.  Would you like to book this package?\\nDo you have any information on what activities are included in the package?\\nI can't help you with that.\\nIs this a direct flight to Kingston or do we have to make a transfer? Are the tickets business class?\\nThe tickets are Economy.  I'm sorry, we do not have any tickets available to Business Class for this flight.  Would you like to book this package?\\nYes, I'll take it. Thank you\\n\\n\\nHi, I'm looking for a trip  from Thursday, August 18, 2016 to Thursday, September 8, 2016 to Mexico City\\nI can look into your options for you. Where would you like to depart from?\\nKingston\\nI can book 5 days in Mexico City leaving from Kingston, Canada for 1226.20USD. Or, if you're interested 12 days in Columbus for 1865.3USD.\\nHow many stars do the hotels have and what's included with the hotel?\\nThe Mexico City hotel is 3.0 stars with free breakfast and free wifi, while the Columbus hotel is 2.5 stars with free parking and free wifi.\\nI prefer 3 stars and above. I'm flexible with my budget, is there anything else in Columbo?\\nI can get you 12 days at a 3.5 start hotel in Columbus for 1942.52USD.\\nThat's looking good. I want to see a few more options before I choose one. There's nothing available in Porto?\\nYou can spend 13 days in Porto at a 3.0 star hotel for 2112.86USD. \\nPorto would be great. Can you tell me more about the hotel.\\nThe hotel is Deluxe Hotel  and has free breakfast and wifi. You can also stay at Amistad for 13 days, this hotel has a 3.5 rating as well with free breakfast and wifi.\\nExcellent. I'll stay at the Amistad for 13 days. Thanks for your help.\\n\\n\\nHi im from Caprica looking to book a vacation to Hyrule\\nHello, I am sorry but we do not have anything available for those destinations  Are you interested in other destinations?\\nYa for sure, not sure where, lets see what would fit my plans between the 13th of august and the 16th\\nwould you be interested in going to Vancouver or Toronto?\\nHow about if i leave fro Birmingham?\\nI am sorry, it's a busy time of year and all I have available at the moment is Vancouver or Toronto.\\nsure lets try Vancouver then\\nDo you have a date in mind?\\nI want to leave on the 13th of august and be back on the 16th\\nDo you have a date in mind?\\nI want to leave on the 13th\\nI have nothing available on the 13th. I do have something available from the 17th to the 25th of August.\\nyou know none of these are meeting my requests. i will just go with another service. Thank you.\\n\\n\\nHey man, imma leave from Godric's Hollow on August 27, 2016 and go to Goiania. Can't pay more than 4300USD. Watcha got?\\nHello, how many people will be travelling to Goiania?\\nJust me\\nI cannot find any trips to Goiania leaving from Godric's Hollow. Is there another nearby city you could depart from?\\nyeah how about Montreal?\\nI can book you 11 days in Goiania for 3374.42USD. Are you interested?\\nthat's leaving on August 27th?\\nYou will leave Montreal on Tuesday, August 16th 2016.\\nnothing closer to the 27th?\\nI can book 11 days at the same hotel for 3549.83USD leaving on August 25.\\nya that's awesome. I'll book it. thanks man.\\nOk, I will book that trip. Enjoy.\\n\\n\\n\""
            ]
          },
          "metadata": {
            "tags": []
          },
          "execution_count": 8
        }
      ]
    },
    {
      "cell_type": "code",
      "metadata": {
        "id": "Eq5FjLMc3eC0",
        "colab_type": "code",
        "colab": {}
      },
      "source": [
        "def listToString(s):\n",
        "  convo = \"\"\n",
        "  for t in s:\n",
        "    convo +=t\n",
        "  return convo"
      ],
      "execution_count": 0,
      "outputs": []
    },
    {
      "cell_type": "code",
      "metadata": {
        "id": "n1ka5hq86cjn",
        "colab_type": "code",
        "colab": {}
      },
      "source": [
        "s = data"
      ],
      "execution_count": 0,
      "outputs": []
    },
    {
      "cell_type": "code",
      "metadata": {
        "id": "8UtKFSmd6Ulc",
        "colab_type": "code",
        "colab": {
          "base_uri": "https://localhost:8080/",
          "height": 1000
        },
        "outputId": "7e38ceec-96d0-4443-9b31-1b5bbb0d2f27"
      },
      "source": [
        "print(listToString(s))"
      ],
      "execution_count": 33,
      "outputs": [
        {
          "output_type": "stream",
          "text": [
            "I'd like to book a trip to Atlantis from Caprica on Saturday, August 13, 2016 for 8 adults. I have a tight budget of 1700.\n",
            "Hi...I checked a few options for you, and unfortunately, we do not currently have any trips that meet this criteria.  Would you like to book an alternate travel option?\n",
            "Yes, how about going to Neverland from Caprica on August 13, 2016 for 5 adults. For this trip, my budget would be 1900.\n",
            "I checked the availability for this date and there were no trips available.  Would you like to select some alternate dates?\n",
            "I have no flexibility for dates... but I can leave from Atlantis rather than Caprica. How about that?\n",
            "I checked the availability for that date and there were no trips available.  Would you like to select some alternate dates?\n",
            "I suppose I'll speak with my husband to see if we can choose other dates, and then I'll come back to you.Thanks for your help\n",
            "\n",
            "\n",
            "Hello, I am looking to book a vacation from Gotham City to Mos Eisley for $2100.\n",
            "Hi. Sorry, I can't find any trips from Gotham City to Mos Eisley for you.\n",
            "What about a trip from Gotham City to Neverland for the same budget?\n",
            "Sorry, I cannot find any trips leaving from Gotham City. Could you suggest another nearby departure city?\n",
            "Would any packages to Mos Eisley be available if I increase my budget to $2500?\n",
            "There are no trips available to Mos Eisley.\n",
            "You know what, I'd like to try and visit Neverland\n",
            "I cannot find any trips available to Neverland.\n",
            "Do you have any trips from Gotham City to Kobe for my original budget of $2100?\n",
            "I can book you a 3 day trip to Kobe leaving from Sapporo, Japan. Is this ok?\n",
            "No, that's too far for me. I need a flight that leaves from Birmingham.\n",
            "I can book you a trip from Birmingham to Kobe for 2747.8 USD.\n",
            "How many days would I be in Kobe?\n",
            "You would arrive in Kobe August 17th and return to Birmingham on August 22nd.\n",
            "What would the price be if I shortened my trip by one day?\n",
            "I can not find any trips from Birmingham to Kobe for 4 days.\n",
            "Ok, then I would like to purchase this package. What activities are included in this package?\n",
            "There are no activities listed for this package. You will be staying at the Ivory Legacy Hotel for 7 days. This hotel has a 4.5 star rating and free wifi. Will I go ahead and book this package?\n",
            "Yes, I would like to book this package.\n",
            "Great. Your flight departs from Birmingham at 9:00 am - Wednesday, August 17th 2016. Enjoy your trip, I have booked this package for you.\n",
            "\n",
            "\n",
            "Hello there i am looking to go on a vacation with my family to Gotham City, can you help me?\n",
            "when  would you like to travel and how many people will you be?\n",
            "Not sure when we want to leave, but we are 12 kids and 5 adults\n",
            "do you have a budget?\n",
            "yes i do, it is around $2200\n",
            "where will you be travelling from?\n",
            "We are from Neverland\n",
            "We have nothing available leaving from Neverland, are you able to depart from another city?\n",
            "we can depart from Toronto\n",
            "Gotham City is not a destination we travel to. Are you interested in any other destinations?\n",
            "hmm what options would i have out of Toronto?\n",
            "Would you be interested in Calgary?\n",
            "that would be nice\n",
            "I have a departure from Toronto to Calgary  on August 17 returning on August 24. Does that work for you?\n",
            "No sorry i was planning on getting a tan this vacation. Thanks, is there anywhere else? Thank you\n",
            "is there anywhere else?\n",
            "How about a trip to Dominican Republic? it is quite cheap at this time of year.\n",
            "What options do you have available for me?\n",
            "I have the el Mar hotel available in Punta Cana this week.\n",
            "That sounds interesting. how many stars does the hotel have?\n",
            "2.5 stars. You would have to fly out of Melbourne though\n",
            "Ahh...maybe another time\n",
            "\n",
            "\n",
            "Hi I'd like to go to Caprica from Busan, between Sunday August 21, 2016 and Wednesday August 31, 2016\n",
            "And what would be your maximum budget for this trip?\n",
            "Actually it's unlimited for this trip\n",
            "How many adults and how many children will be making this trip?\n",
            "2 adults\n",
            "I have no trips to Caprica from Busan.  I do have a trip to Mannheim, Germany, one to Kingston , Canada, and another to Toronto Canada.  Would you like to select alternate dates or an alternate travel destination?\n",
            "Do you have anything for San Antonio as a destination?\n",
            "Yes, I do.  I have one for 8445.37 USD.  Would you like to book this package?  The guest rating is 7.15/10 and there is free parking and free wifi.  Leaving Sunday, August 21st at 11:00 a.m. and returning Sunday, August 28th at 1:00 a.m.\n",
            "Is breakfast included?\n",
            "Yes, it is.\n",
            "That sounds great. 1:00 am return on Sunday August 28th is very early in the morning... \n",
            "Would you like to book this package?\n",
            "Yes I would. Thanks for your help.\n",
            "\n",
            "\n",
            "Hello, I am looking to book a trip for 2 adults and 6 children for $21,300 or less. We are departing from Kochi for Denver.\n",
            "I have several options available within your budget. How long would you like to travel for? And do you have dates in mind?\n",
            "I do not have any dates in mind. I would like to spend as much time in Denver as my budget will allow.\n",
            "I can book 7 days at a 4.0 star hotel for 19028.93USD. I can also book 7 days at a 3.0 star hotel for 12824.84USD.\n",
            "Do these packages have different departure dates? When would I be leaving for each of them?\n",
            "The 3.0 star trip leaves Kochi August 26 and returns August 31. The 4.0 star leaves August 27 from Kochi and returns September 1.\n",
            "Ok, I would like to purchase the trip with the 4-star hotel.\n",
            "Perfect, I will book that trip for you now. You will depart Kochi at 9:00 am August 27. Have a nice day.\n",
            "Thank you\n",
            "\n",
            "\n",
            "Hey, i Want to go to St. Louis on the 17th of August\n",
            "For how many days?\n",
            "I need to back by the 31st\n",
            "What will your departure city be?\n",
            "I’m from Calgary\n",
            "I have a direct flight leaving from Calgary on August 18 and returning on August 28th. Does that work for you?\n",
            "Yes that sounds perfect may you please tell me about the destination place\n",
            "It is the Glorious Cloak inn hotel in St. Louis. It has a 3-star rating.\n",
            "That sounds lavish, what type of flight would that be?\n",
            "You would be flying business class, for a grand total of only $1858.14\n",
            "Are there any possible flights with economy class?\n",
            "I have a package at the Lunar whcih has a 5 star rating on an economy class flight on the same dates for $1558.00\n",
            "that sounds even better.\n",
            "This deal includes free breakfast and free wifi. Would you like me to book it for you?\n",
            "Yes please, that sounds wonderful. thank you\n",
            "\n",
            "\n",
            "I'm looking for a trip to Gotham City leaving from Kakariko Village on Saturday, August 13, 2016. 3 adults for no more than $2400 USD.\n",
            "I have a trip available to Vancouver for these dates within your price range.  Would you like to increase your budget or adjust the dates?\n",
            "I'd like to adjust the departure city to Caprica.\n",
            "Still no availability for this destination.  Would you like to increase your budget or adjust the dates?\n",
            "The dates cannot be changed. How about going to Theed with 14 adults, leaving from Kakariko Village, on a budget of $2900?\n",
            "Still no availability.\n",
            "Then I will bring my business elsewhere. Thank you.\n",
            "\n",
            "\n",
            "Hello, I would like to book a 2-week trip leaving from Melbourne on August 27. I would like to go to Mannheim.\n",
            "Have you got a budget for this vacation?\n",
            "I do not have a budget, however I would like to pick whichever package is cheapest. Could you offer me the cheapest package for each destination?\n",
            "I can book you 9 days in Mannheim for 3258.15USD at a 5 star hotel,\n",
            "Is there a package to Mannheim which offers a cheaper hotel? I am flexible with my dates of arrival and departure.\n",
            "I am unable to find any cheaper packages for Mannheim\n",
            "What would the cost be if I stayed for 10 days in Mexico City?\n",
            "You can stay in Mexico City for 8 days for 426.16USD leaving from Melbourne, USA.\n",
            "Actually I am leaving from Melbourne, Australia. How does this affect the price of the trip?\n",
            "I cannot find any trips available from Melbourne, Australia to Mexico City.\n",
            "Could I purchase a package  to Vancouver similar to the one I was offered?\n",
            "I cannot find any trips available from Melbourne, Australia to any destinations. This point of departure is not in my database.\n",
            "Ok, thank you for your time anyways\n",
            "\n",
            "\n",
            "Hello, I am planning to book a trip to pittsborgh\n",
            "Hello. Would that be Pittsborgh, Pennsylvania?\n",
            "i think so!\n",
            "And what city will you be departing from?\n",
            "We will be leaving from Fukuoka\n",
            "how many people will be travelling together?\n",
            "there will be myself, 1 adult, and my four kids\n",
            "Do you have specific dates in mind?\n",
            "none at the moment\n",
            "and for how long would you like to go for?\n",
            "also not sure yet\n",
            "I have no flights available to Pittsburgh, but I have package available to Vancouver\n",
            "I would like to see the availabilities in Vancouver please\n",
            "I have several available.  Do you have a budget in mind?\n",
            "I have $12600 to spend on this vacation\n",
            "It would be helpful if you could provide me with some dates\n",
            "we are very flexible with dates anything would work\n",
            "I am very sorry  but I have nothing available at the moment\n",
            "that’s very unfortunate, thank you anyways\n",
            "\n",
            "\n",
            "Hi, I need to go to Mos Eisley for a wedding, leaving on Saturday, August 13, 2016 and returning on Tuesday, August 16, 2016. Preferably for $3700.\n",
            "Would you like to have a departure from a specific location?\n",
            "\n",
            "\n",
            "I'd like to get away from Monday, August 15, 2016 to Wednesday, August 31, 2016. My budget is $3200 and I would leave from Detroit.\n",
            "And what destination would you like to travel to?\n",
            "Anywhere, I'm looking for an adventure. What do you have?\n",
            "How about Mexico or Porto Alegre?\n",
            "Let's look at both\n",
            "Mexico is unavailable.  Porto Alegre is available, but you would have to leave from Santos.\n",
            "Can you please suggest some destinations that are available? I am leaving from Detroit.\n",
            "I have no departures available from Detroit. for these dates.  Would you like to make a date change?\n",
            "Anything between August 15 and August 31?\n",
            "I'm sorry, but we do not have any departures from Detroit available for these dates for the budget you provided.  Would you like to adjust your budget for this trip?\n",
            "No I cannot. Thank you for your help\n",
            "\n",
            "\n",
            "Good day, please book me a trip from Vancouver, Jamaica to Recife. I would like to leave for 17 days on August 24.\n",
            "Would you like to travel to Vancouver, Canada from Dublin, USA?\n",
            "No, I would like to depart from Vancouver, Jamaica for the aforementioned destination.\n",
            "I can book you an 8 day trip from Calgary to Vancouver, Canada for 810.50USD.\n",
            "I would not like to travel to Vancouver, Canada.  Do you have any trips to Recife, Brazil?\n",
            "I can book you a trip from Porto Alegre to Recife for 682.19USD.\n",
            "I will take any package you give me to any destination as long as it leaves from Vancouver, Jamaica.\n",
            "I can book you a trip from Vancouver, Canada to Toronto, Canada for 837.99USD.\n",
            "If you cannot book me a flight that leaves from Vancouver, Jamaica then I cannot book a trip.\n",
            "I cannot book you a trip leaving from Vancouver, Jamaica.\n",
            "Actually I will be departing from Vancouver, British Columbia, do you have packages to Recife?\n",
            "I can book 11 days in Recife leaving from Vancouver for 2171.6USD.\n",
            "Do you have any similar packages to Goiania?\n",
            "I can book 5 days in Goiania for 2190.68USD.\n",
            "What kind of hotel would I be staying at in Recife?\n",
            "3.5 star hotel for free wi-fi, free parking, and free breakfast.\n",
            "Would my room have a view of the city? How much would it cost to upgrade to a room with a view?\n",
            "I cannot provide this information\n",
            "Ok, I'm ready to buy this package\n",
            "Ok. I will book this package for you. You will be leaving Vancouver, Canada at 1:00 pm - Monday, August 15th 2016 and arriving in Recife, Brazil at 10:16 pm - Monday, August 15th 2016. You will be staying at La Casa Del Amor. Enjoy your trip.\n",
            "I was supposed to leave on August 24th. Do you have any packages that leave on that date?\n",
            "I can book you 11 days in Recife leaving Vancouver on August 27th for 3119.42USD.\n",
            "Actually I would like to purchase the first package to Recife.\n",
            "Ok, I will book you the package to Recife that leaves Vancouver, Canada on August 15.\n",
            "Thanks\n",
            "\n",
            "\n",
            "Hi im looking for a nice destination that i could go to from Columbus\n",
            "I have 2 choices, Vancouver or Toronto.\n",
            "What options are there for both\n",
            "I have a few. Do you have a budget in mind?\n",
            "$3700 is my budget at the moment\n",
            "I have the Obsidian Gem Inn in Vancouver which is a 4-star hotel at $1934.64 or the Hotel Richard in Toronto which is a 3-star hotel at $2393.00. Both are for a 14 day stay.\n",
            "Toronto seems like a better place this time of year, when would the flights be?\n",
            "I have a direct flight to Toronto departing on August 15th and returning on August 28th.  Would you like me to book that for you?\n",
            "would by chance have one leaving on the 19th\n",
            "I have a flight available departing on August 24th and returning on September 6th\n",
            "let’s go ahead and book this\n",
            "Perfect. Thank you.\n",
            "thank you\n",
            "\n",
            "\n",
            "Hi, I have a big family and we can't afford a big vacation, we want to go to Atlantis from Mos Eisley for $3600 at most.\n",
            "Do you have a preferred set of dates for this trip?\n",
            "Nope\n",
            "And how many adults and how many children are you bringing with you to Atlantis?\n",
            "12 adults and one child.\n",
            "I'm sorry, but we do not currently have any travel packages available for this destination.  Do you have any other destinations that you might like to travel to?\n",
            "No, we are visiting family in Atlantis. Can you check once more please?\n",
            "I'm sorry, but I do not currently have any travel packages available for this location.  Are you quite sure that I cannot interest you in another travel destination?\n",
            "Yes, I'm quite sure. Thank you for your help.\n",
            "\n",
            "\n",
            "Hi, I'm leaving from Diagon Alley and going to Coruscant on a budget of $3400. The dates don't matter, but I cannot afford anything over my budget.\n",
            "And how many children and adults will you be bringing with you?\n",
            "Just myself.\n",
            "I'm sorry, but this travel destination is not available.\n",
            "What about Neverland on the same budget?\n",
            "Neverland is unavailable.  Vancouver would be available, however.  Would you like to select another location?\n",
            "No I cannot do another location. What if I increased my budget by $400?\n",
            "I am sorry, but we do not have any trips available to the Neverland travel destination.\n",
            "nor Coruscant?\n",
            "Coruscant is not available either.\n",
            "Ok thanks.\n",
            "\n",
            "\n",
            "Hi there, im from Vitoria and I want to go on vacation\n",
            "where would you like to go?\n",
            "I would like to go to Santo domingo\n",
            "would a 7 day trip work for you?\n",
            "yes that sounds fine, looking to leave on the 19th\n",
            "great, I have a flight departing on the 19th and returning on the 25th of August\n",
            "what is the hotel like?\n",
            "It is called the Rose Sierra Hotel and it is a 3-star hotel that includes free breakfast, wifi and parking. The total cost would be  $2170.90.\n",
            "what type of flight is that going to be?\n",
            "It is an economy class flight\n",
            "let’s book it please\n",
            "Perfect. Have a great trip.\n",
            "Thank you\n",
            "\n",
            "\n",
            "Hi, me and my family want to take a trip to Kakariko Village.\n",
            "How many adults and how many children will you be bringing with you?   Do you have a preferred departure location?  What would be your maximum budget?\n",
            "We are four adults and 11 children departing from Godric's Hollow. $3500 is the most we are willing to spend.\n",
            "I do not have any packages available from that departure location for that budget.  Would you like to adjust the budget?\n",
            "I would not be able to spend more than $4500\n",
            "Would you like to suggest another departure location?  And what travel destination would you like to travel to?\n",
            "We'll catch a flight from Toronto then. We're headed for Kakariko Village.\n",
            "There are no travel packages available to Kakariko Village.\n",
            "Ok, do you have any travel packages to Kingston, Canada for 11 kids and 4 adults, $3500 or less, departing from Toronto?\n",
            "Yes, I have a package available leaving Toronto at 10:00 a.m. on August 24th and returning to Toronto at 4:00 a.m on August 30th.  This package offers free breakfast, free wifi, and free parking.  The cost of this package is 3465.91 USD.  Would you like to book this package?\n",
            "Do you have any information on what activities are included in the package?\n",
            "I can't help you with that.\n",
            "Is this a direct flight to Kingston or do we have to make a transfer? Are the tickets business class?\n",
            "The tickets are Economy.  I'm sorry, we do not have any tickets available to Business Class for this flight.  Would you like to book this package?\n",
            "Yes, I'll take it. Thank you\n",
            "\n",
            "\n",
            "Hi, I'm looking for a trip  from Thursday, August 18, 2016 to Thursday, September 8, 2016 to Mexico City\n",
            "I can look into your options for you. Where would you like to depart from?\n",
            "Kingston\n",
            "I can book 5 days in Mexico City leaving from Kingston, Canada for 1226.20USD. Or, if you're interested 12 days in Columbus for 1865.3USD.\n",
            "How many stars do the hotels have and what's included with the hotel?\n",
            "The Mexico City hotel is 3.0 stars with free breakfast and free wifi, while the Columbus hotel is 2.5 stars with free parking and free wifi.\n",
            "I prefer 3 stars and above. I'm flexible with my budget, is there anything else in Columbo?\n",
            "I can get you 12 days at a 3.5 start hotel in Columbus for 1942.52USD.\n",
            "That's looking good. I want to see a few more options before I choose one. There's nothing available in Porto?\n",
            "You can spend 13 days in Porto at a 3.0 star hotel for 2112.86USD. \n",
            "Porto would be great. Can you tell me more about the hotel.\n",
            "The hotel is Deluxe Hotel  and has free breakfast and wifi. You can also stay at Amistad for 13 days, this hotel has a 3.5 rating as well with free breakfast and wifi.\n",
            "Excellent. I'll stay at the Amistad for 13 days. Thanks for your help.\n",
            "\n",
            "\n",
            "Hi im from Caprica looking to book a vacation to Hyrule\n",
            "Hello, I am sorry but we do not have anything available for those destinations  Are you interested in other destinations?\n",
            "Ya for sure, not sure where, lets see what would fit my plans between the 13th of august and the 16th\n",
            "would you be interested in going to Vancouver or Toronto?\n",
            "How about if i leave fro Birmingham?\n",
            "I am sorry, it's a busy time of year and all I have available at the moment is Vancouver or Toronto.\n",
            "sure lets try Vancouver then\n",
            "Do you have a date in mind?\n",
            "I want to leave on the 13th of august and be back on the 16th\n",
            "Do you have a date in mind?\n",
            "I want to leave on the 13th\n",
            "I have nothing available on the 13th. I do have something available from the 17th to the 25th of August.\n",
            "you know none of these are meeting my requests. i will just go with another service. Thank you.\n",
            "\n",
            "\n",
            "Hey man, imma leave from Godric's Hollow on August 27, 2016 and go to Goiania. Can't pay more than 4300USD. Watcha got?\n",
            "Hello, how many people will be travelling to Goiania?\n",
            "Just me\n",
            "I cannot find any trips to Goiania leaving from Godric's Hollow. Is there another nearby city you could depart from?\n",
            "yeah how about Montreal?\n",
            "I can book you 11 days in Goiania for 3374.42USD. Are you interested?\n",
            "that's leaving on August 27th?\n",
            "You will leave Montreal on Tuesday, August 16th 2016.\n",
            "nothing closer to the 27th?\n",
            "I can book 11 days at the same hotel for 3549.83USD leaving on August 25.\n",
            "ya that's awesome. I'll book it. thanks man.\n",
            "Ok, I will book that trip. Enjoy.\n",
            "\n",
            "\n",
            "\n"
          ],
          "name": "stdout"
        }
      ]
    },
    {
      "cell_type": "markdown",
      "metadata": {
        "id": "I6eI0hTGu0ie",
        "colab_type": "text"
      },
      "source": [
        "**Contractions**"
      ]
    },
    {
      "cell_type": "code",
      "metadata": {
        "id": "5MXckPJkux6B",
        "colab_type": "code",
        "colab": {
          "base_uri": "https://localhost:8080/",
          "height": 204
        },
        "outputId": "5af82660-138d-44b9-8e2d-eb99a0a04cee"
      },
      "source": [
        "!wget -c \"https://s3.amazonaws.com/dl4j-distribution/GoogleNews-vectors-negative300.bin.gz\""
      ],
      "execution_count": 9,
      "outputs": [
        {
          "output_type": "stream",
          "text": [
            "--2020-03-25 18:25:23--  https://s3.amazonaws.com/dl4j-distribution/GoogleNews-vectors-negative300.bin.gz\n",
            "Resolving s3.amazonaws.com (s3.amazonaws.com)... 52.216.85.29\n",
            "Connecting to s3.amazonaws.com (s3.amazonaws.com)|52.216.85.29|:443... connected.\n",
            "HTTP request sent, awaiting response... 200 OK\n",
            "Length: 1647046227 (1.5G) [application/x-gzip]\n",
            "Saving to: ‘GoogleNews-vectors-negative300.bin.gz’\n",
            "\n",
            "GoogleNews-vectors- 100%[===================>]   1.53G  79.5MB/s    in 21s     \n",
            "\n",
            "2020-03-25 18:25:44 (74.0 MB/s) - ‘GoogleNews-vectors-negative300.bin.gz’ saved [1647046227/1647046227]\n",
            "\n"
          ],
          "name": "stdout"
        }
      ]
    },
    {
      "cell_type": "code",
      "metadata": {
        "id": "x-7quvErwLDt",
        "colab_type": "code",
        "colab": {}
      },
      "source": [
        "# Expand contractions\n",
        "# - Load semantic vector model in gensim keyedvectors format from disk\n",
        "cont = Contractions('GoogleNews-vectors-negative300.bin.gz')"
      ],
      "execution_count": 0,
      "outputs": []
    },
    {
      "cell_type": "code",
      "metadata": {
        "id": "0j2-GyQTwW65",
        "colab_type": "code",
        "colab": {
          "base_uri": "https://localhost:8080/",
          "height": 88
        },
        "outputId": "ded9318c-fb8c-4de2-a476-3fccbe744c6f"
      },
      "source": [
        "#Error starts here \n",
        "start = default_timer()\n",
        "f_false = list(cont.expand_texts([string], precise=False)) \n",
        "end = default_timer()\n",
        "print(f\"elapsed time: {end-start}s\")"
      ],
      "execution_count": 11,
      "outputs": [
        {
          "output_type": "stream",
          "text": [
            "/usr/local/lib/python3.6/dist-packages/smart_open/smart_open_lib.py:410: UserWarning: This function is deprecated, use smart_open.open instead. See the migration notes for details: https://github.com/RaRe-Technologies/smart_open/blob/master/README.rst#migrating-to-the-new-open-function\n",
            "  'See the migration notes for details: %s' % _MIGRATION_NOTES_URL\n"
          ],
          "name": "stderr"
        },
        {
          "output_type": "stream",
          "text": [
            "elapsed time: 167.70450471999993s\n"
          ],
          "name": "stdout"
        }
      ]
    },
    {
      "cell_type": "code",
      "metadata": {
        "id": "nCKKbKiJwwbC",
        "colab_type": "code",
        "colab": {
          "base_uri": "https://localhost:8080/",
          "height": 34
        },
        "outputId": "906d0081-bfac-40fc-9bb3-34ba82b17511"
      },
      "source": [
        "print(f\"elapsed time: {(end-start)/60} min\")"
      ],
      "execution_count": 12,
      "outputs": [
        {
          "output_type": "stream",
          "text": [
            "elapsed time: 2.7950750786666654 min\n"
          ],
          "name": "stdout"
        }
      ]
    },
    {
      "cell_type": "code",
      "metadata": {
        "id": "PcpXrrr_jCAt",
        "colab_type": "code",
        "colab": {}
      },
      "source": [
        "# remove tabs\n",
        "data_notab = re.sub('(\\\\t)',' ', text)"
      ],
      "execution_count": 0,
      "outputs": []
    },
    {
      "cell_type": "code",
      "metadata": {
        "id": "BsUREVhTjK7y",
        "colab_type": "code",
        "colab": {
          "base_uri": "https://localhost:8080/",
          "height": 54
        },
        "outputId": "3a622cc3-32bc-407f-ad12-076460e16510"
      },
      "source": [
        "print(data_notab)"
      ],
      "execution_count": 17,
      "outputs": [
        {
          "output_type": "stream",
          "text": [
            "I d like to book a trip to Atlantis from Caprica on Saturday  August 13  2016 for 8 adults  I have a tight budget of 1700  Hi   I checked a few options for you  and unfortunately  we do not currently have any trips that meet this criteria   Would you like to book an alternate travel option   Yes  how about going to Neverland from Caprica on August 13  2016 for 5 adults  For this trip  my budget would be 1900  I checked the availability for this date and there were no trips available   Would you like to select some alternate dates  I have no flexibility for dates    but I can leave from Atlantis rather than Caprica  How about that  I checked the availability for that date and there were no trips available   Would you like to select some alternate dates  I suppose I ll speak with my husband to see if we can choose other dates  and then I ll come back to you Thanks for your help\n"
          ],
          "name": "stdout"
        }
      ]
    },
    {
      "cell_type": "code",
      "metadata": {
        "id": "h0NxtEIGjPes",
        "colab_type": "code",
        "colab": {}
      },
      "source": [
        "# to remove numbers\n",
        "r = ('\\d+')"
      ],
      "execution_count": 0,
      "outputs": []
    },
    {
      "cell_type": "code",
      "metadata": {
        "id": "wPy3nLkcjVId",
        "colab_type": "code",
        "colab": {}
      },
      "source": [
        "# Replace all non alphanumber characters with spaces\n",
        "text = re.sub(r'[^a-zA-Z0-9\\s]',' ',text)"
      ],
      "execution_count": 0,
      "outputs": []
    },
    {
      "cell_type": "code",
      "metadata": {
        "id": "Ss3339nijXv-",
        "colab_type": "code",
        "colab": {
          "base_uri": "https://localhost:8080/",
          "height": 54
        },
        "outputId": "56ceec3a-c142-4ab2-8e2d-ec9d753e27b6"
      },
      "source": [
        "print(text)"
      ],
      "execution_count": 20,
      "outputs": [
        {
          "output_type": "stream",
          "text": [
            "I d like to book a trip to Atlantis from Caprica on Saturday  August 13  2016 for 8 adults  I have a tight budget of 1700  Hi   I checked a few options for you  and unfortunately  we do not currently have any trips that meet this criteria   Would you like to book an alternate travel option   Yes  how about going to Neverland from Caprica on August 13  2016 for 5 adults  For this trip  my budget would be 1900  I checked the availability for this date and there were no trips available   Would you like to select some alternate dates  I have no flexibility for dates    but I can leave from Atlantis rather than Caprica  How about that  I checked the availability for that date and there were no trips available   Would you like to select some alternate dates  I suppose I ll speak with my husband to see if we can choose other dates  and then I ll come back to you Thanks for your help\n"
          ],
          "name": "stdout"
        }
      ]
    },
    {
      "cell_type": "code",
      "metadata": {
        "id": "dZcHJX6g8Qze",
        "colab_type": "code",
        "colab": {}
      },
      "source": [
        "import pprint"
      ],
      "execution_count": 0,
      "outputs": []
    },
    {
      "cell_type": "markdown",
      "metadata": {
        "id": "o6yGD1h7xAYr",
        "colab_type": "text"
      },
      "source": [
        "**Tokenization**"
      ]
    },
    {
      "cell_type": "code",
      "metadata": {
        "id": "RviQBbwqSX_6",
        "colab_type": "code",
        "colab": {
          "base_uri": "https://localhost:8080/",
          "height": 68
        },
        "outputId": "6a87c8f1-b82b-4320-bab7-6be00ea97827"
      },
      "source": [
        "nltk.download('punkt')"
      ],
      "execution_count": 22,
      "outputs": [
        {
          "output_type": "stream",
          "text": [
            "[nltk_data] Downloading package punkt to /root/nltk_data...\n",
            "[nltk_data]   Unzipping tokenizers/punkt.zip.\n"
          ],
          "name": "stdout"
        },
        {
          "output_type": "execute_result",
          "data": {
            "text/plain": [
              "True"
            ]
          },
          "metadata": {
            "tags": []
          },
          "execution_count": 22
        }
      ]
    },
    {
      "cell_type": "code",
      "metadata": {
        "id": "PfUhglglSafG",
        "colab_type": "code",
        "colab": {
          "base_uri": "https://localhost:8080/",
          "height": 54
        },
        "outputId": "387432af-4264-461f-b941-1777ec44b885"
      },
      "source": [
        "#split into sentences\n",
        "from nltk.tokenize import sent_tokenize\n",
        "tokenized_sent=sent_tokenize(data_notab)\n",
        "print(tokenized_sent)"
      ],
      "execution_count": 23,
      "outputs": [
        {
          "output_type": "stream",
          "text": [
            "['I d like to book a trip to Atlantis from Caprica on Saturday  August 13  2016 for 8 adults  I have a tight budget of 1700  Hi   I checked a few options for you  and unfortunately  we do not currently have any trips that meet this criteria   Would you like to book an alternate travel option   Yes  how about going to Neverland from Caprica on August 13  2016 for 5 adults  For this trip  my budget would be 1900  I checked the availability for this date and there were no trips available   Would you like to select some alternate dates  I have no flexibility for dates    but I can leave from Atlantis rather than Caprica  How about that  I checked the availability for that date and there were no trips available   Would you like to select some alternate dates  I suppose I ll speak with my husband to see if we can choose other dates  and then I ll come back to you Thanks for your help']\n"
          ],
          "name": "stdout"
        }
      ]
    },
    {
      "cell_type": "code",
      "metadata": {
        "id": "sQB-DPMPSkLx",
        "colab_type": "code",
        "colab": {
          "base_uri": "https://localhost:8080/",
          "height": 54
        },
        "outputId": "5f37f05d-5de2-43fb-8bff-3d129ec942e0"
      },
      "source": [
        "#split into words\n",
        "from nltk.tokenize import word_tokenize\n",
        "tokenized_words=[]\n",
        "tokenized_words.extend(word for word in word_tokenize(str(tokenized_sent)))\n",
        "print(tokenized_words)"
      ],
      "execution_count": 25,
      "outputs": [
        {
          "output_type": "stream",
          "text": [
            "['[', \"'I\", 'd', 'like', 'to', 'book', 'a', 'trip', 'to', 'Atlantis', 'from', 'Caprica', 'on', 'Saturday', 'August', '13', '2016', 'for', '8', 'adults', 'I', 'have', 'a', 'tight', 'budget', 'of', '1700', 'Hi', 'I', 'checked', 'a', 'few', 'options', 'for', 'you', 'and', 'unfortunately', 'we', 'do', 'not', 'currently', 'have', 'any', 'trips', 'that', 'meet', 'this', 'criteria', 'Would', 'you', 'like', 'to', 'book', 'an', 'alternate', 'travel', 'option', 'Yes', 'how', 'about', 'going', 'to', 'Neverland', 'from', 'Caprica', 'on', 'August', '13', '2016', 'for', '5', 'adults', 'For', 'this', 'trip', 'my', 'budget', 'would', 'be', '1900', 'I', 'checked', 'the', 'availability', 'for', 'this', 'date', 'and', 'there', 'were', 'no', 'trips', 'available', 'Would', 'you', 'like', 'to', 'select', 'some', 'alternate', 'dates', 'I', 'have', 'no', 'flexibility', 'for', 'dates', 'but', 'I', 'can', 'leave', 'from', 'Atlantis', 'rather', 'than', 'Caprica', 'How', 'about', 'that', 'I', 'checked', 'the', 'availability', 'for', 'that', 'date', 'and', 'there', 'were', 'no', 'trips', 'available', 'Would', 'you', 'like', 'to', 'select', 'some', 'alternate', 'dates', 'I', 'suppose', 'I', 'll', 'speak', 'with', 'my', 'husband', 'to', 'see', 'if', 'we', 'can', 'choose', 'other', 'dates', 'and', 'then', 'I', 'll', 'come', 'back', 'to', 'you', 'Thanks', 'for', 'your', 'help', \"'\", ']']\n"
          ],
          "name": "stdout"
        }
      ]
    },
    {
      "cell_type": "code",
      "metadata": {
        "id": "ZKtZPs5fSslh",
        "colab_type": "code",
        "colab": {
          "base_uri": "https://localhost:8080/",
          "height": 68
        },
        "outputId": "b7cad219-5736-4db0-d8e1-6e739a1657ec"
      },
      "source": [
        "from nltk.corpus import stopwords\n",
        "nltk.download('stopwords')"
      ],
      "execution_count": 26,
      "outputs": [
        {
          "output_type": "stream",
          "text": [
            "[nltk_data] Downloading package stopwords to /root/nltk_data...\n",
            "[nltk_data]   Unzipping corpora/stopwords.zip.\n"
          ],
          "name": "stdout"
        },
        {
          "output_type": "execute_result",
          "data": {
            "text/plain": [
              "True"
            ]
          },
          "metadata": {
            "tags": []
          },
          "execution_count": 26
        }
      ]
    },
    {
      "cell_type": "code",
      "metadata": {
        "id": "R_hYujhRSwPd",
        "colab_type": "code",
        "colab": {
          "base_uri": "https://localhost:8080/",
          "height": 54
        },
        "outputId": "09b8449f-4470-457a-9ac7-854c6c408973"
      },
      "source": [
        "stop_words = stopwords.words('english')\n",
        "print(stop_words)"
      ],
      "execution_count": 27,
      "outputs": [
        {
          "output_type": "stream",
          "text": [
            "['i', 'me', 'my', 'myself', 'we', 'our', 'ours', 'ourselves', 'you', \"you're\", \"you've\", \"you'll\", \"you'd\", 'your', 'yours', 'yourself', 'yourselves', 'he', 'him', 'his', 'himself', 'she', \"she's\", 'her', 'hers', 'herself', 'it', \"it's\", 'its', 'itself', 'they', 'them', 'their', 'theirs', 'themselves', 'what', 'which', 'who', 'whom', 'this', 'that', \"that'll\", 'these', 'those', 'am', 'is', 'are', 'was', 'were', 'be', 'been', 'being', 'have', 'has', 'had', 'having', 'do', 'does', 'did', 'doing', 'a', 'an', 'the', 'and', 'but', 'if', 'or', 'because', 'as', 'until', 'while', 'of', 'at', 'by', 'for', 'with', 'about', 'against', 'between', 'into', 'through', 'during', 'before', 'after', 'above', 'below', 'to', 'from', 'up', 'down', 'in', 'out', 'on', 'off', 'over', 'under', 'again', 'further', 'then', 'once', 'here', 'there', 'when', 'where', 'why', 'how', 'all', 'any', 'both', 'each', 'few', 'more', 'most', 'other', 'some', 'such', 'no', 'nor', 'not', 'only', 'own', 'same', 'so', 'than', 'too', 'very', 's', 't', 'can', 'will', 'just', 'don', \"don't\", 'should', \"should've\", 'now', 'd', 'll', 'm', 'o', 're', 've', 'y', 'ain', 'aren', \"aren't\", 'couldn', \"couldn't\", 'didn', \"didn't\", 'doesn', \"doesn't\", 'hadn', \"hadn't\", 'hasn', \"hasn't\", 'haven', \"haven't\", 'isn', \"isn't\", 'ma', 'mightn', \"mightn't\", 'mustn', \"mustn't\", 'needn', \"needn't\", 'shan', \"shan't\", 'shouldn', \"shouldn't\", 'wasn', \"wasn't\", 'weren', \"weren't\", 'won', \"won't\", 'wouldn', \"wouldn't\"]\n"
          ],
          "name": "stdout"
        }
      ]
    },
    {
      "cell_type": "code",
      "metadata": {
        "id": "3fmtV3cJSydT",
        "colab_type": "code",
        "colab": {
          "base_uri": "https://localhost:8080/",
          "height": 1000
        },
        "outputId": "36d5df05-acfd-4728-e614-8ef4b3e6d3b4"
      },
      "source": [
        "[word for word in word_tokenize(str(tokenized_sent)) if word not in stop_words]"
      ],
      "execution_count": 28,
      "outputs": [
        {
          "output_type": "execute_result",
          "data": {
            "text/plain": [
              "['[',\n",
              " \"'I\",\n",
              " 'like',\n",
              " 'book',\n",
              " 'trip',\n",
              " 'Atlantis',\n",
              " 'Caprica',\n",
              " 'Saturday',\n",
              " 'August',\n",
              " '13',\n",
              " '2016',\n",
              " '8',\n",
              " 'adults',\n",
              " 'I',\n",
              " 'tight',\n",
              " 'budget',\n",
              " '1700',\n",
              " 'Hi',\n",
              " 'I',\n",
              " 'checked',\n",
              " 'options',\n",
              " 'unfortunately',\n",
              " 'currently',\n",
              " 'trips',\n",
              " 'meet',\n",
              " 'criteria',\n",
              " 'Would',\n",
              " 'like',\n",
              " 'book',\n",
              " 'alternate',\n",
              " 'travel',\n",
              " 'option',\n",
              " 'Yes',\n",
              " 'going',\n",
              " 'Neverland',\n",
              " 'Caprica',\n",
              " 'August',\n",
              " '13',\n",
              " '2016',\n",
              " '5',\n",
              " 'adults',\n",
              " 'For',\n",
              " 'trip',\n",
              " 'budget',\n",
              " 'would',\n",
              " '1900',\n",
              " 'I',\n",
              " 'checked',\n",
              " 'availability',\n",
              " 'date',\n",
              " 'trips',\n",
              " 'available',\n",
              " 'Would',\n",
              " 'like',\n",
              " 'select',\n",
              " 'alternate',\n",
              " 'dates',\n",
              " 'I',\n",
              " 'flexibility',\n",
              " 'dates',\n",
              " 'I',\n",
              " 'leave',\n",
              " 'Atlantis',\n",
              " 'rather',\n",
              " 'Caprica',\n",
              " 'How',\n",
              " 'I',\n",
              " 'checked',\n",
              " 'availability',\n",
              " 'date',\n",
              " 'trips',\n",
              " 'available',\n",
              " 'Would',\n",
              " 'like',\n",
              " 'select',\n",
              " 'alternate',\n",
              " 'dates',\n",
              " 'I',\n",
              " 'suppose',\n",
              " 'I',\n",
              " 'speak',\n",
              " 'husband',\n",
              " 'see',\n",
              " 'choose',\n",
              " 'dates',\n",
              " 'I',\n",
              " 'come',\n",
              " 'back',\n",
              " 'Thanks',\n",
              " 'help',\n",
              " \"'\",\n",
              " ']']"
            ]
          },
          "metadata": {
            "tags": []
          },
          "execution_count": 28
        }
      ]
    },
    {
      "cell_type": "code",
      "metadata": {
        "id": "bSj2EEt-S2ay",
        "colab_type": "code",
        "colab": {
          "base_uri": "https://localhost:8080/",
          "height": 54
        },
        "outputId": "6d0305cf-0e01-4dc4-870d-dd76bc28a7f2"
      },
      "source": [
        "# lowercase\n",
        "data_lower = tokenized_sent[0].lower()\n",
        "print(data_lower)"
      ],
      "execution_count": 29,
      "outputs": [
        {
          "output_type": "stream",
          "text": [
            "i d like to book a trip to atlantis from caprica on saturday  august 13  2016 for 8 adults  i have a tight budget of 1700  hi   i checked a few options for you  and unfortunately  we do not currently have any trips that meet this criteria   would you like to book an alternate travel option   yes  how about going to neverland from caprica on august 13  2016 for 5 adults  for this trip  my budget would be 1900  i checked the availability for this date and there were no trips available   would you like to select some alternate dates  i have no flexibility for dates    but i can leave from atlantis rather than caprica  how about that  i checked the availability for that date and there were no trips available   would you like to select some alternate dates  i suppose i ll speak with my husband to see if we can choose other dates  and then i ll come back to you thanks for your help\n"
          ],
          "name": "stdout"
        }
      ]
    },
    {
      "cell_type": "code",
      "metadata": {
        "id": "QKdnQ2grS5a6",
        "colab_type": "code",
        "colab": {
          "base_uri": "https://localhost:8080/",
          "height": 34
        },
        "outputId": "9067e5b3-0f53-4a01-d7a1-8da3a48262f3"
      },
      "source": [
        "# remove puncuation\n",
        "import string\n",
        "print(string.punctuation)"
      ],
      "execution_count": 30,
      "outputs": [
        {
          "output_type": "stream",
          "text": [
            "!\"#$%&'()*+,-./:;<=>?@[\\]^_`{|}~\n"
          ],
          "name": "stdout"
        }
      ]
    },
    {
      "cell_type": "code",
      "metadata": {
        "id": "540SaIT-S793",
        "colab_type": "code",
        "colab": {
          "base_uri": "https://localhost:8080/",
          "height": 54
        },
        "outputId": "30eb59d2-1a39-49e0-bd55-cd94302bb63e"
      },
      "source": [
        "no_punct = [t for t in tokenized_words if t not in string.punctuation]\n",
        "print(no_punct)"
      ],
      "execution_count": 31,
      "outputs": [
        {
          "output_type": "stream",
          "text": [
            "[\"'I\", 'd', 'like', 'to', 'book', 'a', 'trip', 'to', 'Atlantis', 'from', 'Caprica', 'on', 'Saturday', 'August', '13', '2016', 'for', '8', 'adults', 'I', 'have', 'a', 'tight', 'budget', 'of', '1700', 'Hi', 'I', 'checked', 'a', 'few', 'options', 'for', 'you', 'and', 'unfortunately', 'we', 'do', 'not', 'currently', 'have', 'any', 'trips', 'that', 'meet', 'this', 'criteria', 'Would', 'you', 'like', 'to', 'book', 'an', 'alternate', 'travel', 'option', 'Yes', 'how', 'about', 'going', 'to', 'Neverland', 'from', 'Caprica', 'on', 'August', '13', '2016', 'for', '5', 'adults', 'For', 'this', 'trip', 'my', 'budget', 'would', 'be', '1900', 'I', 'checked', 'the', 'availability', 'for', 'this', 'date', 'and', 'there', 'were', 'no', 'trips', 'available', 'Would', 'you', 'like', 'to', 'select', 'some', 'alternate', 'dates', 'I', 'have', 'no', 'flexibility', 'for', 'dates', 'but', 'I', 'can', 'leave', 'from', 'Atlantis', 'rather', 'than', 'Caprica', 'How', 'about', 'that', 'I', 'checked', 'the', 'availability', 'for', 'that', 'date', 'and', 'there', 'were', 'no', 'trips', 'available', 'Would', 'you', 'like', 'to', 'select', 'some', 'alternate', 'dates', 'I', 'suppose', 'I', 'll', 'speak', 'with', 'my', 'husband', 'to', 'see', 'if', 'we', 'can', 'choose', 'other', 'dates', 'and', 'then', 'I', 'll', 'come', 'back', 'to', 'you', 'Thanks', 'for', 'your', 'help']\n"
          ],
          "name": "stdout"
        }
      ]
    },
    {
      "cell_type": "code",
      "metadata": {
        "id": "gKekkpLwS9-t",
        "colab_type": "code",
        "colab": {
          "base_uri": "https://localhost:8080/",
          "height": 54
        },
        "outputId": "029f2b0f-12f3-46be-e569-8d0f254a4e16"
      },
      "source": [
        "data_lower = [w.lower() for w in no_punct]\n",
        "print(data_lower)"
      ],
      "execution_count": 32,
      "outputs": [
        {
          "output_type": "stream",
          "text": [
            "[\"'i\", 'd', 'like', 'to', 'book', 'a', 'trip', 'to', 'atlantis', 'from', 'caprica', 'on', 'saturday', 'august', '13', '2016', 'for', '8', 'adults', 'i', 'have', 'a', 'tight', 'budget', 'of', '1700', 'hi', 'i', 'checked', 'a', 'few', 'options', 'for', 'you', 'and', 'unfortunately', 'we', 'do', 'not', 'currently', 'have', 'any', 'trips', 'that', 'meet', 'this', 'criteria', 'would', 'you', 'like', 'to', 'book', 'an', 'alternate', 'travel', 'option', 'yes', 'how', 'about', 'going', 'to', 'neverland', 'from', 'caprica', 'on', 'august', '13', '2016', 'for', '5', 'adults', 'for', 'this', 'trip', 'my', 'budget', 'would', 'be', '1900', 'i', 'checked', 'the', 'availability', 'for', 'this', 'date', 'and', 'there', 'were', 'no', 'trips', 'available', 'would', 'you', 'like', 'to', 'select', 'some', 'alternate', 'dates', 'i', 'have', 'no', 'flexibility', 'for', 'dates', 'but', 'i', 'can', 'leave', 'from', 'atlantis', 'rather', 'than', 'caprica', 'how', 'about', 'that', 'i', 'checked', 'the', 'availability', 'for', 'that', 'date', 'and', 'there', 'were', 'no', 'trips', 'available', 'would', 'you', 'like', 'to', 'select', 'some', 'alternate', 'dates', 'i', 'suppose', 'i', 'll', 'speak', 'with', 'my', 'husband', 'to', 'see', 'if', 'we', 'can', 'choose', 'other', 'dates', 'and', 'then', 'i', 'll', 'come', 'back', 'to', 'you', 'thanks', 'for', 'your', 'help']\n"
          ],
          "name": "stdout"
        }
      ]
    },
    {
      "cell_type": "code",
      "metadata": {
        "id": "_VabUsKWTAqc",
        "colab_type": "code",
        "colab": {}
      },
      "source": [
        "filtered_sent = []\n",
        "for w in no_punct:\n",
        "  if w not in stop_words:\n",
        "    filtered_sent.append(w)"
      ],
      "execution_count": 0,
      "outputs": []
    },
    {
      "cell_type": "code",
      "metadata": {
        "id": "F8ZR5LHoTEm3",
        "colab_type": "code",
        "colab": {
          "base_uri": "https://localhost:8080/",
          "height": 1000
        },
        "outputId": "49745e01-cad2-4d62-8598-541b4361b25d"
      },
      "source": [
        "#filtered_sent\n",
        "no_punct = [t for t in filtered_sent if t not in string.punctuation]\n",
        "no_punct = [w.lower() for w in no_punct]\n",
        "no_punct"
      ],
      "execution_count": 34,
      "outputs": [
        {
          "output_type": "execute_result",
          "data": {
            "text/plain": [
              "[\"'i\",\n",
              " 'like',\n",
              " 'book',\n",
              " 'trip',\n",
              " 'atlantis',\n",
              " 'caprica',\n",
              " 'saturday',\n",
              " 'august',\n",
              " '13',\n",
              " '2016',\n",
              " '8',\n",
              " 'adults',\n",
              " 'i',\n",
              " 'tight',\n",
              " 'budget',\n",
              " '1700',\n",
              " 'hi',\n",
              " 'i',\n",
              " 'checked',\n",
              " 'options',\n",
              " 'unfortunately',\n",
              " 'currently',\n",
              " 'trips',\n",
              " 'meet',\n",
              " 'criteria',\n",
              " 'would',\n",
              " 'like',\n",
              " 'book',\n",
              " 'alternate',\n",
              " 'travel',\n",
              " 'option',\n",
              " 'yes',\n",
              " 'going',\n",
              " 'neverland',\n",
              " 'caprica',\n",
              " 'august',\n",
              " '13',\n",
              " '2016',\n",
              " '5',\n",
              " 'adults',\n",
              " 'for',\n",
              " 'trip',\n",
              " 'budget',\n",
              " 'would',\n",
              " '1900',\n",
              " 'i',\n",
              " 'checked',\n",
              " 'availability',\n",
              " 'date',\n",
              " 'trips',\n",
              " 'available',\n",
              " 'would',\n",
              " 'like',\n",
              " 'select',\n",
              " 'alternate',\n",
              " 'dates',\n",
              " 'i',\n",
              " 'flexibility',\n",
              " 'dates',\n",
              " 'i',\n",
              " 'leave',\n",
              " 'atlantis',\n",
              " 'rather',\n",
              " 'caprica',\n",
              " 'how',\n",
              " 'i',\n",
              " 'checked',\n",
              " 'availability',\n",
              " 'date',\n",
              " 'trips',\n",
              " 'available',\n",
              " 'would',\n",
              " 'like',\n",
              " 'select',\n",
              " 'alternate',\n",
              " 'dates',\n",
              " 'i',\n",
              " 'suppose',\n",
              " 'i',\n",
              " 'speak',\n",
              " 'husband',\n",
              " 'see',\n",
              " 'choose',\n",
              " 'dates',\n",
              " 'i',\n",
              " 'come',\n",
              " 'back',\n",
              " 'thanks',\n",
              " 'help']"
            ]
          },
          "metadata": {
            "tags": []
          },
          "execution_count": 34
        }
      ]
    },
    {
      "cell_type": "code",
      "metadata": {
        "id": "pHCDsPf7TGjI",
        "colab_type": "code",
        "colab": {}
      },
      "source": [
        "from nltk.stem import PorterStemmer\n",
        "from nltk.stem import LancasterStemmer\n",
        "\n",
        "ps = PorterStemmer()\n",
        "ls = LancasterStemmer()"
      ],
      "execution_count": 0,
      "outputs": []
    },
    {
      "cell_type": "code",
      "metadata": {
        "id": "oiaJUVAFTJ0q",
        "colab_type": "code",
        "colab": {
          "base_uri": "https://localhost:8080/",
          "height": 1000
        },
        "outputId": "065e1d6e-a1ce-4db3-f8ac-6858afa0bd28"
      },
      "source": [
        "psstemmed_words = []\n",
        "lsstemmed_words = []\n",
        "\n",
        "for w in filtered_sent:\n",
        "  \n",
        "  psstemmed_words.append(ps.stem(w)) #maintain semantic meaning, try porter_2 (snowball)\n",
        "\n",
        "  lsstemmed_words.append(ls.stem(w)) #for performance, very quick/ruthless, may shave on characters and make words make no sense\n",
        "\n",
        "  print('Words '+w+'.   PS:'+ps.stem(w) + '    LS: '+ls.stem(w))"
      ],
      "execution_count": 36,
      "outputs": [
        {
          "output_type": "stream",
          "text": [
            "Words 'I.   PS:'I    LS: 'i\n",
            "Words like.   PS:like    LS: lik\n",
            "Words book.   PS:book    LS: book\n",
            "Words trip.   PS:trip    LS: trip\n",
            "Words Atlantis.   PS:atlanti    LS: atl\n",
            "Words Caprica.   PS:caprica    LS: capric\n",
            "Words Saturday.   PS:saturday    LS: saturday\n",
            "Words August.   PS:august    LS: august\n",
            "Words 13.   PS:13    LS: 13\n",
            "Words 2016.   PS:2016    LS: 2016\n",
            "Words 8.   PS:8    LS: 8\n",
            "Words adults.   PS:adult    LS: adult\n",
            "Words I.   PS:I    LS: i\n",
            "Words tight.   PS:tight    LS: tight\n",
            "Words budget.   PS:budget    LS: budget\n",
            "Words 1700.   PS:1700    LS: 1700\n",
            "Words Hi.   PS:Hi    LS: hi\n",
            "Words I.   PS:I    LS: i\n",
            "Words checked.   PS:check    LS: check\n",
            "Words options.   PS:option    LS: opt\n",
            "Words unfortunately.   PS:unfortun    LS: unfortun\n",
            "Words currently.   PS:current    LS: cur\n",
            "Words trips.   PS:trip    LS: trip\n",
            "Words meet.   PS:meet    LS: meet\n",
            "Words criteria.   PS:criteria    LS: criter\n",
            "Words Would.   PS:would    LS: would\n",
            "Words like.   PS:like    LS: lik\n",
            "Words book.   PS:book    LS: book\n",
            "Words alternate.   PS:altern    LS: altern\n",
            "Words travel.   PS:travel    LS: travel\n",
            "Words option.   PS:option    LS: opt\n",
            "Words Yes.   PS:ye    LS: ye\n",
            "Words going.   PS:go    LS: going\n",
            "Words Neverland.   PS:neverland    LS: neverland\n",
            "Words Caprica.   PS:caprica    LS: capric\n",
            "Words August.   PS:august    LS: august\n",
            "Words 13.   PS:13    LS: 13\n",
            "Words 2016.   PS:2016    LS: 2016\n",
            "Words 5.   PS:5    LS: 5\n",
            "Words adults.   PS:adult    LS: adult\n",
            "Words For.   PS:for    LS: for\n",
            "Words trip.   PS:trip    LS: trip\n",
            "Words budget.   PS:budget    LS: budget\n",
            "Words would.   PS:would    LS: would\n",
            "Words 1900.   PS:1900    LS: 1900\n",
            "Words I.   PS:I    LS: i\n",
            "Words checked.   PS:check    LS: check\n",
            "Words availability.   PS:avail    LS: avail\n",
            "Words date.   PS:date    LS: dat\n",
            "Words trips.   PS:trip    LS: trip\n",
            "Words available.   PS:avail    LS: avail\n",
            "Words Would.   PS:would    LS: would\n",
            "Words like.   PS:like    LS: lik\n",
            "Words select.   PS:select    LS: select\n",
            "Words alternate.   PS:altern    LS: altern\n",
            "Words dates.   PS:date    LS: dat\n",
            "Words I.   PS:I    LS: i\n",
            "Words flexibility.   PS:flexibl    LS: flex\n",
            "Words dates.   PS:date    LS: dat\n",
            "Words I.   PS:I    LS: i\n",
            "Words leave.   PS:leav    LS: leav\n",
            "Words Atlantis.   PS:atlanti    LS: atl\n",
            "Words rather.   PS:rather    LS: rath\n",
            "Words Caprica.   PS:caprica    LS: capric\n",
            "Words How.   PS:how    LS: how\n",
            "Words I.   PS:I    LS: i\n",
            "Words checked.   PS:check    LS: check\n",
            "Words availability.   PS:avail    LS: avail\n",
            "Words date.   PS:date    LS: dat\n",
            "Words trips.   PS:trip    LS: trip\n",
            "Words available.   PS:avail    LS: avail\n",
            "Words Would.   PS:would    LS: would\n",
            "Words like.   PS:like    LS: lik\n",
            "Words select.   PS:select    LS: select\n",
            "Words alternate.   PS:altern    LS: altern\n",
            "Words dates.   PS:date    LS: dat\n",
            "Words I.   PS:I    LS: i\n",
            "Words suppose.   PS:suppos    LS: suppos\n",
            "Words I.   PS:I    LS: i\n",
            "Words speak.   PS:speak    LS: speak\n",
            "Words husband.   PS:husband    LS: husband\n",
            "Words see.   PS:see    LS: see\n",
            "Words choose.   PS:choos    LS: choos\n",
            "Words dates.   PS:date    LS: dat\n",
            "Words I.   PS:I    LS: i\n",
            "Words come.   PS:come    LS: com\n",
            "Words back.   PS:back    LS: back\n",
            "Words Thanks.   PS:thank    LS: thank\n",
            "Words help.   PS:help    LS: help\n"
          ],
          "name": "stdout"
        }
      ]
    },
    {
      "cell_type": "code",
      "metadata": {
        "id": "j3juVPNlTMN9",
        "colab_type": "code",
        "colab": {
          "base_uri": "https://localhost:8080/",
          "height": 68
        },
        "outputId": "2c46015f-35d2-4630-db30-1c6795ee9bb3"
      },
      "source": [
        "from nltk.stem.wordnet import WordNetLemmatizer\n",
        "nltk.download('wordnet')"
      ],
      "execution_count": 37,
      "outputs": [
        {
          "output_type": "stream",
          "text": [
            "[nltk_data] Downloading package wordnet to /root/nltk_data...\n",
            "[nltk_data]   Unzipping corpora/wordnet.zip.\n"
          ],
          "name": "stdout"
        },
        {
          "output_type": "execute_result",
          "data": {
            "text/plain": [
              "True"
            ]
          },
          "metadata": {
            "tags": []
          },
          "execution_count": 37
        }
      ]
    },
    {
      "cell_type": "code",
      "metadata": {
        "id": "6m-gLtT7TTCP",
        "colab_type": "code",
        "colab": {
          "base_uri": "https://localhost:8080/",
          "height": 1000
        },
        "outputId": "b4fdb43d-ee27-49d3-de76-40cf0d9fe27c"
      },
      "source": [
        "lem = WordNetLemmatizer()\n",
        "for word in filtered_sent:\n",
        "  print('{0:20}{1:20}'.format(word,lem.lemmatize(word,pos='v')))"
      ],
      "execution_count": 38,
      "outputs": [
        {
          "output_type": "stream",
          "text": [
            "'I                  'I                  \n",
            "like                like                \n",
            "book                book                \n",
            "trip                trip                \n",
            "Atlantis            Atlantis            \n",
            "Caprica             Caprica             \n",
            "Saturday            Saturday            \n",
            "August              August              \n",
            "13                  13                  \n",
            "2016                2016                \n",
            "8                   8                   \n",
            "adults              adults              \n",
            "I                   I                   \n",
            "tight               tight               \n",
            "budget              budget              \n",
            "1700                1700                \n",
            "Hi                  Hi                  \n",
            "I                   I                   \n",
            "checked             check               \n",
            "options             options             \n",
            "unfortunately       unfortunately       \n",
            "currently           currently           \n",
            "trips               trip                \n",
            "meet                meet                \n",
            "criteria            criteria            \n",
            "Would               Would               \n",
            "like                like                \n",
            "book                book                \n",
            "alternate           alternate           \n",
            "travel              travel              \n",
            "option              option              \n",
            "Yes                 Yes                 \n",
            "going               go                  \n",
            "Neverland           Neverland           \n",
            "Caprica             Caprica             \n",
            "August              August              \n",
            "13                  13                  \n",
            "2016                2016                \n",
            "5                   5                   \n",
            "adults              adults              \n",
            "For                 For                 \n",
            "trip                trip                \n",
            "budget              budget              \n",
            "would               would               \n",
            "1900                1900                \n",
            "I                   I                   \n",
            "checked             check               \n",
            "availability        availability        \n",
            "date                date                \n",
            "trips               trip                \n",
            "available           available           \n",
            "Would               Would               \n",
            "like                like                \n",
            "select              select              \n",
            "alternate           alternate           \n",
            "dates               date                \n",
            "I                   I                   \n",
            "flexibility         flexibility         \n",
            "dates               date                \n",
            "I                   I                   \n",
            "leave               leave               \n",
            "Atlantis            Atlantis            \n",
            "rather              rather              \n",
            "Caprica             Caprica             \n",
            "How                 How                 \n",
            "I                   I                   \n",
            "checked             check               \n",
            "availability        availability        \n",
            "date                date                \n",
            "trips               trip                \n",
            "available           available           \n",
            "Would               Would               \n",
            "like                like                \n",
            "select              select              \n",
            "alternate           alternate           \n",
            "dates               date                \n",
            "I                   I                   \n",
            "suppose             suppose             \n",
            "I                   I                   \n",
            "speak               speak               \n",
            "husband             husband             \n",
            "see                 see                 \n",
            "choose              choose              \n",
            "dates               date                \n",
            "I                   I                   \n",
            "come                come                \n",
            "back                back                \n",
            "Thanks              Thanks              \n",
            "help                help                \n"
          ],
          "name": "stdout"
        }
      ]
    },
    {
      "cell_type": "code",
      "metadata": {
        "id": "Xlhx_ervTW0p",
        "colab_type": "code",
        "colab": {
          "base_uri": "https://localhost:8080/",
          "height": 85
        },
        "outputId": "91bf0bbe-f3e0-49f5-dbe5-f28b7d8ba655"
      },
      "source": [
        "nltk.download('averaged_perceptron_tagger')"
      ],
      "execution_count": 39,
      "outputs": [
        {
          "output_type": "stream",
          "text": [
            "[nltk_data] Downloading package averaged_perceptron_tagger to\n",
            "[nltk_data]     /root/nltk_data...\n",
            "[nltk_data]   Unzipping taggers/averaged_perceptron_tagger.zip.\n"
          ],
          "name": "stdout"
        },
        {
          "output_type": "execute_result",
          "data": {
            "text/plain": [
              "True"
            ]
          },
          "metadata": {
            "tags": []
          },
          "execution_count": 39
        }
      ]
    },
    {
      "cell_type": "code",
      "metadata": {
        "id": "JwpYyHnhTbNM",
        "colab_type": "code",
        "colab": {}
      },
      "source": [
        "tagged_words = nltk.pos_tag(filtered_sent)"
      ],
      "execution_count": 0,
      "outputs": []
    },
    {
      "cell_type": "code",
      "metadata": {
        "id": "0ugWu7sYTeq2",
        "colab_type": "code",
        "colab": {}
      },
      "source": [
        "import  pprint as pprint "
      ],
      "execution_count": 0,
      "outputs": []
    },
    {
      "cell_type": "code",
      "metadata": {
        "id": "bgeU9-RQThNc",
        "colab_type": "code",
        "colab": {
          "base_uri": "https://localhost:8080/",
          "height": 1000
        },
        "outputId": "bc1c91c6-61b8-424b-bc43-e8232d2a687e"
      },
      "source": [
        "pp = pprint.PrettyPrinter(indent=4)\n",
        "pp.pprint(tagged_words)"
      ],
      "execution_count": 42,
      "outputs": [
        {
          "output_type": "stream",
          "text": [
            "[   (\"'I\", 'NNS'),\n",
            "    ('like', 'IN'),\n",
            "    ('book', 'NN'),\n",
            "    ('trip', 'NN'),\n",
            "    ('Atlantis', 'NNP'),\n",
            "    ('Caprica', 'NNP'),\n",
            "    ('Saturday', 'NNP'),\n",
            "    ('August', 'NNP'),\n",
            "    ('13', 'CD'),\n",
            "    ('2016', 'CD'),\n",
            "    ('8', 'CD'),\n",
            "    ('adults', 'NNS'),\n",
            "    ('I', 'PRP'),\n",
            "    ('tight', 'VBD'),\n",
            "    ('budget', 'NN'),\n",
            "    ('1700', 'CD'),\n",
            "    ('Hi', 'NNP'),\n",
            "    ('I', 'PRP'),\n",
            "    ('checked', 'VBD'),\n",
            "    ('options', 'NNS'),\n",
            "    ('unfortunately', 'RB'),\n",
            "    ('currently', 'RB'),\n",
            "    ('trips', 'VBZ'),\n",
            "    ('meet', 'NN'),\n",
            "    ('criteria', 'NNS'),\n",
            "    ('Would', 'MD'),\n",
            "    ('like', 'VB'),\n",
            "    ('book', 'NN'),\n",
            "    ('alternate', 'VBP'),\n",
            "    ('travel', 'NN'),\n",
            "    ('option', 'NN'),\n",
            "    ('Yes', 'NNP'),\n",
            "    ('going', 'VBG'),\n",
            "    ('Neverland', 'NNP'),\n",
            "    ('Caprica', 'NNP'),\n",
            "    ('August', 'NNP'),\n",
            "    ('13', 'CD'),\n",
            "    ('2016', 'CD'),\n",
            "    ('5', 'CD'),\n",
            "    ('adults', 'NNS'),\n",
            "    ('For', 'IN'),\n",
            "    ('trip', 'NN'),\n",
            "    ('budget', 'NN'),\n",
            "    ('would', 'MD'),\n",
            "    ('1900', 'CD'),\n",
            "    ('I', 'PRP'),\n",
            "    ('checked', 'VBD'),\n",
            "    ('availability', 'NN'),\n",
            "    ('date', 'NN'),\n",
            "    ('trips', 'NNS'),\n",
            "    ('available', 'JJ'),\n",
            "    ('Would', 'MD'),\n",
            "    ('like', 'VB'),\n",
            "    ('select', 'JJ'),\n",
            "    ('alternate', 'NN'),\n",
            "    ('dates', 'NNS'),\n",
            "    ('I', 'PRP'),\n",
            "    ('flexibility', 'VBP'),\n",
            "    ('dates', 'NNS'),\n",
            "    ('I', 'PRP'),\n",
            "    ('leave', 'VBP'),\n",
            "    ('Atlantis', 'NNP'),\n",
            "    ('rather', 'RB'),\n",
            "    ('Caprica', 'NNP'),\n",
            "    ('How', 'NNP'),\n",
            "    ('I', 'PRP'),\n",
            "    ('checked', 'VBD'),\n",
            "    ('availability', 'NN'),\n",
            "    ('date', 'NN'),\n",
            "    ('trips', 'NNS'),\n",
            "    ('available', 'JJ'),\n",
            "    ('Would', 'MD'),\n",
            "    ('like', 'VB'),\n",
            "    ('select', 'JJ'),\n",
            "    ('alternate', 'NN'),\n",
            "    ('dates', 'NNS'),\n",
            "    ('I', 'PRP'),\n",
            "    ('suppose', 'VBP'),\n",
            "    ('I', 'PRP'),\n",
            "    ('speak', 'JJ'),\n",
            "    ('husband', 'NN'),\n",
            "    ('see', 'VBP'),\n",
            "    ('choose', 'JJ'),\n",
            "    ('dates', 'NNS'),\n",
            "    ('I', 'PRP'),\n",
            "    ('come', 'VBP'),\n",
            "    ('back', 'RB'),\n",
            "    ('Thanks', 'NNP'),\n",
            "    ('help', 'NN')]\n"
          ],
          "name": "stdout"
        }
      ]
    },
    {
      "cell_type": "code",
      "metadata": {
        "id": "gbJQ62mPTmrE",
        "colab_type": "code",
        "colab": {
          "base_uri": "https://localhost:8080/",
          "height": 34
        },
        "outputId": "93358ddc-9ec3-460e-dfd1-00e5e0011ca8"
      },
      "source": [
        "from nltk.probability import FreqDist\n",
        "fdist = FreqDist(tokenized_words)\n",
        "fdist.most_common(5)"
      ],
      "execution_count": 44,
      "outputs": [
        {
          "output_type": "execute_result",
          "data": {
            "text/plain": [
              "[('I', 9), ('to', 8), ('for', 7), ('you', 5), ('like', 4)]"
            ]
          },
          "metadata": {
            "tags": []
          },
          "execution_count": 44
        }
      ]
    },
    {
      "cell_type": "code",
      "metadata": {
        "id": "fufdqK-tTpEL",
        "colab_type": "code",
        "colab": {
          "base_uri": "https://localhost:8080/",
          "height": 255
        },
        "outputId": "fcb3110a-a275-436c-f68b-a69028ff24b8"
      },
      "source": [
        "tag_word = nltk.FreqDist(tag for (word, tag) in tagged_words)\n",
        "tag_word.most_common()"
      ],
      "execution_count": 45,
      "outputs": [
        {
          "output_type": "execute_result",
          "data": {
            "text/plain": [
              "[('NN', 17),\n",
              " ('NNP', 13),\n",
              " ('NNS', 11),\n",
              " ('PRP', 9),\n",
              " ('CD', 8),\n",
              " ('VBP', 6),\n",
              " ('JJ', 6),\n",
              " ('VBD', 4),\n",
              " ('RB', 4),\n",
              " ('MD', 4),\n",
              " ('VB', 3),\n",
              " ('IN', 2),\n",
              " ('VBZ', 1),\n",
              " ('VBG', 1)]"
            ]
          },
          "metadata": {
            "tags": []
          },
          "execution_count": 45
        }
      ]
    },
    {
      "cell_type": "code",
      "metadata": {
        "id": "sX3HB16gTrT-",
        "colab_type": "code",
        "colab": {}
      },
      "source": [
        "bi_grams = list(bigrams(tokenized_words))\n",
        "tri_grams = list(trigrams(tokenized_words))\n",
        "output = list(ngrams(tokenized_words, 5))"
      ],
      "execution_count": 0,
      "outputs": []
    },
    {
      "cell_type": "code",
      "metadata": {
        "id": "wPAq3s6MTuUG",
        "colab_type": "code",
        "colab": {
          "base_uri": "https://localhost:8080/",
          "height": 54
        },
        "outputId": "61d2da63-2485-4c20-85ca-12648c25e6d5"
      },
      "source": [
        "print(bi_grams)"
      ],
      "execution_count": 47,
      "outputs": [
        {
          "output_type": "stream",
          "text": [
            "[('[', \"'I\"), (\"'I\", 'd'), ('d', 'like'), ('like', 'to'), ('to', 'book'), ('book', 'a'), ('a', 'trip'), ('trip', 'to'), ('to', 'Atlantis'), ('Atlantis', 'from'), ('from', 'Caprica'), ('Caprica', 'on'), ('on', 'Saturday'), ('Saturday', 'August'), ('August', '13'), ('13', '2016'), ('2016', 'for'), ('for', '8'), ('8', 'adults'), ('adults', 'I'), ('I', 'have'), ('have', 'a'), ('a', 'tight'), ('tight', 'budget'), ('budget', 'of'), ('of', '1700'), ('1700', 'Hi'), ('Hi', 'I'), ('I', 'checked'), ('checked', 'a'), ('a', 'few'), ('few', 'options'), ('options', 'for'), ('for', 'you'), ('you', 'and'), ('and', 'unfortunately'), ('unfortunately', 'we'), ('we', 'do'), ('do', 'not'), ('not', 'currently'), ('currently', 'have'), ('have', 'any'), ('any', 'trips'), ('trips', 'that'), ('that', 'meet'), ('meet', 'this'), ('this', 'criteria'), ('criteria', 'Would'), ('Would', 'you'), ('you', 'like'), ('like', 'to'), ('to', 'book'), ('book', 'an'), ('an', 'alternate'), ('alternate', 'travel'), ('travel', 'option'), ('option', 'Yes'), ('Yes', 'how'), ('how', 'about'), ('about', 'going'), ('going', 'to'), ('to', 'Neverland'), ('Neverland', 'from'), ('from', 'Caprica'), ('Caprica', 'on'), ('on', 'August'), ('August', '13'), ('13', '2016'), ('2016', 'for'), ('for', '5'), ('5', 'adults'), ('adults', 'For'), ('For', 'this'), ('this', 'trip'), ('trip', 'my'), ('my', 'budget'), ('budget', 'would'), ('would', 'be'), ('be', '1900'), ('1900', 'I'), ('I', 'checked'), ('checked', 'the'), ('the', 'availability'), ('availability', 'for'), ('for', 'this'), ('this', 'date'), ('date', 'and'), ('and', 'there'), ('there', 'were'), ('were', 'no'), ('no', 'trips'), ('trips', 'available'), ('available', 'Would'), ('Would', 'you'), ('you', 'like'), ('like', 'to'), ('to', 'select'), ('select', 'some'), ('some', 'alternate'), ('alternate', 'dates'), ('dates', 'I'), ('I', 'have'), ('have', 'no'), ('no', 'flexibility'), ('flexibility', 'for'), ('for', 'dates'), ('dates', 'but'), ('but', 'I'), ('I', 'can'), ('can', 'leave'), ('leave', 'from'), ('from', 'Atlantis'), ('Atlantis', 'rather'), ('rather', 'than'), ('than', 'Caprica'), ('Caprica', 'How'), ('How', 'about'), ('about', 'that'), ('that', 'I'), ('I', 'checked'), ('checked', 'the'), ('the', 'availability'), ('availability', 'for'), ('for', 'that'), ('that', 'date'), ('date', 'and'), ('and', 'there'), ('there', 'were'), ('were', 'no'), ('no', 'trips'), ('trips', 'available'), ('available', 'Would'), ('Would', 'you'), ('you', 'like'), ('like', 'to'), ('to', 'select'), ('select', 'some'), ('some', 'alternate'), ('alternate', 'dates'), ('dates', 'I'), ('I', 'suppose'), ('suppose', 'I'), ('I', 'll'), ('ll', 'speak'), ('speak', 'with'), ('with', 'my'), ('my', 'husband'), ('husband', 'to'), ('to', 'see'), ('see', 'if'), ('if', 'we'), ('we', 'can'), ('can', 'choose'), ('choose', 'other'), ('other', 'dates'), ('dates', 'and'), ('and', 'then'), ('then', 'I'), ('I', 'll'), ('ll', 'come'), ('come', 'back'), ('back', 'to'), ('to', 'you'), ('you', 'Thanks'), ('Thanks', 'for'), ('for', 'your'), ('your', 'help'), ('help', \"'\"), (\"'\", ']')]\n"
          ],
          "name": "stdout"
        }
      ]
    },
    {
      "cell_type": "code",
      "metadata": {
        "id": "s2ah74ALT8BP",
        "colab_type": "code",
        "colab": {
          "base_uri": "https://localhost:8080/",
          "height": 1000
        },
        "outputId": "597b6909-5d4c-41a8-da3f-b773e955c825"
      },
      "source": [
        "filtered_sent"
      ],
      "execution_count": 49,
      "outputs": [
        {
          "output_type": "execute_result",
          "data": {
            "text/plain": [
              "[\"'I\",\n",
              " 'like',\n",
              " 'book',\n",
              " 'trip',\n",
              " 'Atlantis',\n",
              " 'Caprica',\n",
              " 'Saturday',\n",
              " 'August',\n",
              " '13',\n",
              " '2016',\n",
              " '8',\n",
              " 'adults',\n",
              " 'I',\n",
              " 'tight',\n",
              " 'budget',\n",
              " '1700',\n",
              " 'Hi',\n",
              " 'I',\n",
              " 'checked',\n",
              " 'options',\n",
              " 'unfortunately',\n",
              " 'currently',\n",
              " 'trips',\n",
              " 'meet',\n",
              " 'criteria',\n",
              " 'Would',\n",
              " 'like',\n",
              " 'book',\n",
              " 'alternate',\n",
              " 'travel',\n",
              " 'option',\n",
              " 'Yes',\n",
              " 'going',\n",
              " 'Neverland',\n",
              " 'Caprica',\n",
              " 'August',\n",
              " '13',\n",
              " '2016',\n",
              " '5',\n",
              " 'adults',\n",
              " 'For',\n",
              " 'trip',\n",
              " 'budget',\n",
              " 'would',\n",
              " '1900',\n",
              " 'I',\n",
              " 'checked',\n",
              " 'availability',\n",
              " 'date',\n",
              " 'trips',\n",
              " 'available',\n",
              " 'Would',\n",
              " 'like',\n",
              " 'select',\n",
              " 'alternate',\n",
              " 'dates',\n",
              " 'I',\n",
              " 'flexibility',\n",
              " 'dates',\n",
              " 'I',\n",
              " 'leave',\n",
              " 'Atlantis',\n",
              " 'rather',\n",
              " 'Caprica',\n",
              " 'How',\n",
              " 'I',\n",
              " 'checked',\n",
              " 'availability',\n",
              " 'date',\n",
              " 'trips',\n",
              " 'available',\n",
              " 'Would',\n",
              " 'like',\n",
              " 'select',\n",
              " 'alternate',\n",
              " 'dates',\n",
              " 'I',\n",
              " 'suppose',\n",
              " 'I',\n",
              " 'speak',\n",
              " 'husband',\n",
              " 'see',\n",
              " 'choose',\n",
              " 'dates',\n",
              " 'I',\n",
              " 'come',\n",
              " 'back',\n",
              " 'Thanks',\n",
              " 'help']"
            ]
          },
          "metadata": {
            "tags": []
          },
          "execution_count": 49
        }
      ]
    }
  ],
  "metadata": {
    "colab": {
      "name": "Untitled11.ipynb",
      "provenance": [],
      "mount_file_id": "1WSs0cp_huIZAujLh6pV0DYkTd7MDInGg",
      "authorship_tag": "ABX9TyMVgFKrw2KmlGpVw47ZTReX",
      "include_colab_link": true
    },
    "kernelspec": {
      "name": "python3",
      "display_name": "Python 3"
    },
    "accelerator": "TPU"
  },
  "nbformat": 4,
  "nbformat_minor": 0
}